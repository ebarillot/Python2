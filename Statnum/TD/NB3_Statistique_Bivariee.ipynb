{
 "cells": [
  {
   "cell_type": "markdown",
   "metadata": {},
   "source": [
    "# Statistique descriptive pour des données bivariées"
   ]
  },
  {
   "cell_type": "code",
   "execution_count": null,
   "metadata": {},
   "outputs": [],
   "source": [
    "%matplotlib nbagg\n",
    "\n",
    "import matplotlib\n",
    "import pandas as pd\n",
    "import numpy as np\n",
    "import matplotlib.pyplot as plt"
   ]
  },
  {
   "cell_type": "markdown",
   "metadata": {},
   "source": [
    "###  Nuage des points\n",
    "\n",
    "Pour tracer un nuage des points, dont les coordonnées sont données par **x** et **y**, vous pouvez utiliser la fonction **plt.plot** comme vu précédemment. \n",
    "\n",
    "Alternativement, on peut utiliser la fonction **plt.scatter**. \n",
    "\n",
    "Exemple :"
   ]
  },
  {
   "cell_type": "code",
   "execution_count": null,
   "metadata": {
    "scrolled": false
   },
   "outputs": [],
   "source": [
    "x = (np.random.rand(100) - .5 )* 10\n",
    "y = x ** 2  + np.random.randn(100)\n",
    "\n",
    "plt.figure()\n",
    "plt.subplot(121)\n",
    "plt.plot(x,y,'k.')\n",
    "\n",
    "plt.subplot(122)\n",
    "plt.scatter(x,y)"
   ]
  },
  {
   "cell_type": "markdown",
   "metadata": {},
   "source": [
    "### Covariance et corrélation\n",
    "\n",
    "Pour calculer la covariance ou le coefficient de corrélation de deux *Series* **x** et **y**, on peut utiliser les fonctions **np.cov(x,y)** et **np.corrcoef(x,y)**, qui calculent les covariances/corrélations entre **x** et **y**, mais aussi de **x** avec **x** et **y** avec **y**."
   ]
  },
  {
   "cell_type": "code",
   "execution_count": null,
   "metadata": {},
   "outputs": [],
   "source": [
    "print 'Cov(x,y) :\\n', np.cov(x,y)\n",
    "print 'Cor(x,y) :\\n', np.corrcoef(x,y)"
   ]
  },
  {
   "cell_type": "markdown",
   "metadata": {},
   "source": [
    "Avec le module **pandas**, on peut  calculer toute la matrice de covariances ou de corrélations d'un *DataFrame* **tab** par les instructions **tab.cov()** et **tab.corr()**."
   ]
  },
  {
   "cell_type": "code",
   "execution_count": null,
   "metadata": {},
   "outputs": [],
   "source": [
    "z = np.abs(x) ** 2 + y \n",
    "tab = pd.DataFrame({'x' : x, \n",
    "                    'y' : y, \n",
    "                    'z' : z })\n",
    "\n",
    "print 'Matrice de covariance :\\n', tab.cov()\n",
    "print 'Matrice de correlation :\\n', tab.corr()"
   ]
  },
  {
   "cell_type": "markdown",
   "metadata": {},
   "source": [
    "On peut aussi afficher la matrice de corrélations de manière graphique:"
   ]
  },
  {
   "cell_type": "code",
   "execution_count": null,
   "metadata": {},
   "outputs": [],
   "source": [
    "X = np.random.rand(100)\n",
    "Y = np.random.rand(100)\n",
    "D = pd.DataFrame({'x1': X, 'x2': Y, 'x3': X+Y, 'x4': np.power(X,3.), 'x5': X+np.power(Y,-1.), 'x6': np.cos(Y)})\n",
    "plt.matshow(D.corr())\n",
    "plt.colorbar()"
   ]
  },
  {
   "cell_type": "markdown",
   "metadata": {},
   "source": [
    "# Exercice à rendre\n",
    "\n",
    "\n",
    "Dans cet exercice, nous allons analyser des données sur le vin. Les données sont disponible sur Moodle sous le nom \"vins.csv\". Sinon, si vous avez le module sklearn d'installé, vous pouvez les récupérer avec le code suivant:"
   ]
  },
  {
   "cell_type": "code",
   "execution_count": null,
   "metadata": {},
   "outputs": [],
   "source": [
    "from sklearn.datasets import load_wine\n",
    "vins = load_wine()\n",
    "Data = pd.DataFrame(vins['data'],columns=vins['feature_names'])\n",
    "Data['class'] = vins['target']"
   ]
  },
  {
   "cell_type": "markdown",
   "metadata": {},
   "source": [
    "Le jeu de donnée est le résulat d'une analyse chimique de vins produit par 3 cultivateurs. Chaque ligne représente un vin testé où la variable **class** donne numéro du cultivateur qui la produit et les autres variables donnent le résultat de l'analyse chimique de ce vin.\n",
    "\n",
    "Si vous avez importé les données avec le module sklearn, vous pouvez avoir une description (en anglais) du jeu de donnée en utilisant le code suivant:"
   ]
  },
  {
   "cell_type": "code",
   "execution_count": null,
   "metadata": {},
   "outputs": [],
   "source": [
    "print(vins['DESCR'])"
   ]
  },
  {
   "cell_type": "markdown",
   "metadata": {},
   "source": [
    "Vous répondrez aux questions soit dans ce même notebook, dans un autre notebook ou dans un script python. Dans tous les cas, indiquez clairement le numéro des questions auxquelles vous répondez. Renommez le fichier en **Nom_Prénom_NB3**, puis déposez le sur Moodle dans la rubrique devoirs."
   ]
  },
  {
   "cell_type": "markdown",
   "metadata": {},
   "source": [
    "1. Importez les données sous forme d'un dataframe. Familiarisez-vous avec le tableau des données : Vérifiez la taille du tableau, regardez le type des différentes variables etc.\n",
    "\n",
    " ##### Distribution marginale\n",
    " ---\n",
    "\n",
    "2. Calculez les statistiques d'ordre de la variable **flavanoids**. \n",
    "\n",
    "3. En déduire les quartiles de cette variable. Quelle statistique de dispersion pouvez-vous calculer à partir de vos résultats précédents ? Calculez cette statistique.\n",
    "\n",
    "4. Quelle représentation graphique vous permettrait de répondre à la question 3 ? Affichez ce graphique.\n",
    "\n",
    "5. Calculez la distribution (les valeurs et fréquences) de la variable **flavanoids**. Définissez une fonction qui prends en paramètres un entier r, des valeurs et des fréquences et qui renvoie le moment centré d'ordre r. Utilisez cette fonction pour calculer la variance de la variable **flavanoids** à partir de sa distribution.\n",
    "\n",
    " ##### Distribution conditionnelle\n",
    " ---\n",
    "\n",
    "6. Calculez la moyenne conditionnelle et la variance conditionnelle de la variable **alcohol** sachant que la variable **class** vaut 0, 1 et 2. Interpretez les résultats.\n",
    "\n",
    "7. Affichez sur une même figure l'histogramme de la distribution de la variable **alcohol** sachant que la variable **class** vaut 0, 1 et 2 (conseil: utilisez le paramètre **alpha** de la fonction hist pour mieux voir les superpositions). En quoi cette représentation graphique confirme vos précédents résultats ?\n",
    "\n",
    "8. Calculez les fréquences de la variable **alcohol** pour les intervalles (10.,12.5], (12.5,13.5] et (13.5,15.] sachant que la variable **class** vaut 0, 1 et 2. (La notation (a,b] signifie que l'intervalle est ouvert à gauche et fermé à droite)\n",
    "\n",
    " ##### Distribution jointe et statistiques de dépendance\n",
    " ---\n",
    "\n",
    "9. Affichez le nuage de points des variables **flavanoids** et **total_phenols** et le nuage de points des variables **flavanoids** et **nonflavanoid_phenols** sur des figures différentes (mais dans une même fenêtre). Interpretez ces deux graphiques.\n",
    "    \n",
    "10. Quelle statistique utiliseriez-vous pour justifier votre réponse à la question précédente ? Justifiez votre choix et calculez la valeur de cette statistique pour les deux cas.\n",
    "    \n",
    "11. À partir des résultats de la question 8, comment feriez-vous pour calculer la distribution jointe des variables **alcohol** et **class** ? (où les valeurs sont 0, 1 et 2 pour la variable class et les intervalles (10.,12.5], (12.5,13.5] et (13.5,15.] pour la variable alcohol) Calculez cette distribution jointe. Faites le produit entre la distribution marginale de la variable **alcohol** et celle de la variable **class**. Qu'est-ce que vous en concluez ? \n",
    "\n",
    "12. Ecrivez une fonction **scatter_matrix** qui trace les nuages de points de toutes les variables du tableau de données passé à la fonction en argument, où les graphiques sont organisés en forme de matrice (c'est à dire que le nuage de points des variables i et j se trouve sur la ième ligne et la jème ligne dans la fenêtre). Appliquez cette fonction à votre tableau de données et comparez votre résultat à la matrice de corrélations.\n",
    "\n",
    "13. Imaginez que l'on veuille maintenant prédire la variable **class** en fonction des autres variables. Dans ce cas, quelles variables seraient utiles pour faire cette prédiction ? Justifiez votre choix.\n",
    " "
   ]
  },
  {
   "cell_type": "code",
   "execution_count": null,
   "metadata": {
    "collapsed": true
   },
   "outputs": [],
   "source": []
  }
 ],
 "metadata": {
  "kernelspec": {
   "display_name": "Python 2",
   "language": "python",
   "name": "python2"
  },
  "language_info": {
   "codemirror_mode": {
    "name": "ipython",
    "version": 2
   },
   "file_extension": ".py",
   "mimetype": "text/x-python",
   "name": "python",
   "nbconvert_exporter": "python",
   "pygments_lexer": "ipython2",
   "version": "2.7.14"
  }
 },
 "nbformat": 4,
 "nbformat_minor": 1
}
