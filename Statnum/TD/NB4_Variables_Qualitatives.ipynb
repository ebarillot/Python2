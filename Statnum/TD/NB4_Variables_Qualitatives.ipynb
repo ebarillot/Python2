{
 "cells": [
  {
   "cell_type": "markdown",
   "metadata": {
    "deletable": true,
    "editable": true
   },
   "source": [
    "# Variables qualitatives et indépendance"
   ]
  },
  {
   "cell_type": "code",
   "execution_count": null,
   "metadata": {
    "collapsed": false,
    "deletable": true,
    "editable": true
   },
   "outputs": [],
   "source": [
    "%matplotlib nbagg\n",
    "\n",
    "import matplotlib\n",
    "import pandas as pd\n",
    "import numpy as np\n",
    "import matplotlib.pyplot as plt"
   ]
  },
  {
   "cell_type": "markdown",
   "metadata": {
    "deletable": true,
    "editable": true
   },
   "source": [
    "Dans ce notebook, nous nous intéressons aux variables qualitatives. Prenons comme exemple le tableau de données suivant, qui contient la répartition des étudiants de l'année dernière aux deux groupes de TP de ce cours. Nous nous intéressons à la question si la répartition des filles et garçons au deux groupes de TP est équitable, autrement dit, si les étudiants ont choisi leur groupe de TP indépendamment de leur sexe. \n",
    "\n",
    "Importons d'abord les données :"
   ]
  },
  {
   "cell_type": "code",
   "execution_count": null,
   "metadata": {
    "collapsed": false,
    "deletable": true,
    "editable": true
   },
   "outputs": [],
   "source": [
    "etu = pd.read_csv('http://www.proba.jussieu.fr/pageperso/rebafka/listeetudiants.csv',sep=' ',index_col=0)\n",
    "etu.head()"
   ]
  },
  {
   "cell_type": "code",
   "execution_count": null,
   "metadata": {
    "collapsed": false,
    "deletable": true,
    "editable": true
   },
   "outputs": [],
   "source": [
    "etu.dtypes"
   ]
  },
  {
   "cell_type": "markdown",
   "metadata": {
    "deletable": true,
    "editable": true
   },
   "source": [
    "Vérifions les modalités possibles des deux variables :"
   ]
  },
  {
   "cell_type": "code",
   "execution_count": null,
   "metadata": {
    "collapsed": false,
    "deletable": true,
    "editable": true
   },
   "outputs": [],
   "source": [
    "etu['Sexe'].unique()"
   ]
  },
  {
   "cell_type": "code",
   "execution_count": null,
   "metadata": {
    "collapsed": false,
    "deletable": true,
    "editable": true
   },
   "outputs": [],
   "source": [
    "etu['TP'].unique()"
   ]
  },
  {
   "cell_type": "markdown",
   "metadata": {
    "deletable": true,
    "editable": true
   },
   "source": [
    "## Calcul des effectifs\n",
    "\n",
    "La fonction  **value_counts** d'une **Series** calcule les effectifs par modalité de la variable :"
   ]
  },
  {
   "cell_type": "code",
   "execution_count": null,
   "metadata": {
    "collapsed": false,
    "deletable": true,
    "editable": true
   },
   "outputs": [],
   "source": [
    "etu['Sexe'].value_counts()"
   ]
  },
  {
   "cell_type": "code",
   "execution_count": null,
   "metadata": {
    "collapsed": false,
    "deletable": true,
    "editable": true
   },
   "outputs": [],
   "source": [
    "etu['TP'].value_counts()"
   ]
  },
  {
   "cell_type": "markdown",
   "metadata": {
    "deletable": true,
    "editable": true
   },
   "source": [
    "Remarquons que le type de l'objet renvoyé par **value_counts()** est aussi une **Series** :"
   ]
  },
  {
   "cell_type": "code",
   "execution_count": null,
   "metadata": {
    "collapsed": false,
    "deletable": true,
    "editable": true
   },
   "outputs": [],
   "source": [
    "type(etu['TP'].value_counts())"
   ]
  },
  {
   "cell_type": "markdown",
   "metadata": {
    "deletable": true,
    "editable": true
   },
   "source": [
    "Afin de savoir si la répartition des filles/garçons sur les deux groupes est équitable, on calcule le nombre de filles/garçons par groupe de TP :"
   ]
  },
  {
   "cell_type": "code",
   "execution_count": null,
   "metadata": {
    "collapsed": false,
    "deletable": true,
    "editable": true
   },
   "outputs": [],
   "source": [
    "nF_TP1 = ((etu['Sexe']=='F')&(etu['TP']==1)).sum()\n",
    "print 'nF_TP1:', nF_TP1\n",
    "nF_TP2 = ((etu['Sexe']=='F')&(etu['TP']==2)).sum()\n",
    "print 'nF_TP2:', nF_TP2"
   ]
  },
  {
   "cell_type": "code",
   "execution_count": null,
   "metadata": {
    "collapsed": false,
    "deletable": true,
    "editable": true
   },
   "outputs": [],
   "source": [
    "nH_TP1 = ((etu['Sexe']=='M')&(etu['TP']==1)).sum()\n",
    "print 'nH_TP1:', nH_TP1\n",
    "nH_TP2 = ((etu['Sexe']=='M')&(etu['TP']==2)).sum()\n",
    "print 'nH_TP2:', nH_TP2"
   ]
  },
  {
   "cell_type": "markdown",
   "metadata": {
    "collapsed": true,
    "deletable": true,
    "editable": true
   },
   "source": [
    "## Diagramme en bâtons\n",
    "\n",
    "On peut représenter les effectifs de filles/garçons par groupe de TP graphiquement par un diagramme en bâtons avec des couleurs différentes pour les filles/garçons :"
   ]
  },
  {
   "cell_type": "code",
   "execution_count": null,
   "metadata": {
    "collapsed": false,
    "deletable": true,
    "editable": true
   },
   "outputs": [],
   "source": [
    "ind = np.arange(2) # les coordonnées des abscisses x des bâtons\n",
    "width = 0.35       # largeur des bâtons \n",
    "\n",
    "filles = [nF_TP1,nF_TP2]\n",
    "garcons = [nH_TP1,nH_TP2]\n",
    "\n",
    "plt.figure(1)\n",
    "p1 = plt.bar(ind, filles, width, color='r')\n",
    "p2 = plt.bar(ind, garcons, width, color='b', bottom=filles)\n",
    "\n",
    "plt.title('Nombres de filles/garcons par groupe de TP')\n",
    "plt.xticks(ind + width/2., ('TP 1', 'TP 2'))\n",
    "plt.legend((p1[0], p2[0]), ('Filles', 'Garcons'),loc=0)"
   ]
  },
  {
   "cell_type": "markdown",
   "metadata": {
    "deletable": true,
    "editable": true
   },
   "source": [
    "On observe sur le graphique, que les filles ont clairement préféré s'inscrire au groupe TP 1, alors que les garçons ont manifesté une préférence pour le groupe TP 2. On conclut que les variables **Sexe** et **TP** ne sont pas indépendantes.\n",
    "\n",
    "## Statistique de $\\chi^2$\n",
    "\n",
    "Une autre façon pour tester l'indépendance de deux variables qualitatives repose sur la  statistique de $\\chi^2$ définie par\n",
    "$$\\chi^2(X)= \\frac1n \\sum_{i=1}^{N_1}\\sum_{j=1}^{N_2}\\frac{(nn_i^j-n_in^j)^2}{n_in^j}$$\n",
    "où $N_1$ et $N_2$ représentent le nombre de modalités de la première et deuxième variable respectivement, $n_i, n^j$ et $n_i^j$ sont les effectifs de différentes variables et différentes modalités (voir le cours pour les détails) et $n$ est le nombre total d'observations. \n",
    "\n",
    "Calculons alors la statistique de $\\chi^2$ dans notre exemple :"
   ]
  },
  {
   "cell_type": "code",
   "execution_count": null,
   "metadata": {
    "collapsed": false,
    "deletable": true,
    "editable": true
   },
   "outputs": [],
   "source": [
    "# nb d'etudiants dans le groupe TP1 (i=1) et TP2 (i=2)\n",
    "n_1 = (etu['TP']==1).sum()\n",
    "n_2 = (etu['TP']==2).sum()\n",
    "\n",
    "# nb total d'etudiants\n",
    "n = n_1+n_2\n",
    "\n",
    "# nb total de filles (j=1) et de garcons (j=2) \n",
    "m_1 = (etu['Sexe']=='F').sum()\n",
    "m_2 = (etu['Sexe']=='M').sum()\n",
    "\n",
    "stat_chi2 = 0\n",
    "# i=1, j=1 :\n",
    "stat_chi2 += ((n*nF_TP1-n_1*m_1)**2)/float(n_1*m_1)\n",
    "# i=1, j=2 :\n",
    "stat_chi2 += ((n*nH_TP1-n_1*m_2)**2)/float(n_1*m_2)\n",
    "# i=2, j=1 :\n",
    "stat_chi2 += ((n*nF_TP2-n_2*m_1)**2)/float(n_2*m_1)\n",
    "# i=2, j=2 :\n",
    "stat_chi2 += ((n*nH_TP2-n_2*m_2)**2)/float(n_2*m_2)\n",
    "\n",
    "stat_chi2 = stat_chi2/n\n",
    "\n",
    "print 'stat_chi2', stat_chi2\n"
   ]
  },
  {
   "cell_type": "markdown",
   "metadata": {
    "deletable": true,
    "editable": true
   },
   "source": [
    "### Interprétation de la valeur de la statistique de $\\chi^2$\n",
    "\n",
    "\n",
    "En général, une petite valeur de $\\chi^2$ est en faveur de l'hypothèse de l'indépendance des deux variables, alors qu'une grande valeur de $\\chi^2$ implique que les deux variables ne sont pas indépendantes. \n",
    "\n",
    "Si la valeur est suffisamment \"grande\" ou \"petite\" pour pouvoir conclure dépend  du nombre de modalités des deux variables. \n",
    "\n",
    "Plus précisément, on peut calculer ce qu'on appelle le degré de liberté $d$ de la statistique de $\\chi^2$ défini par\n",
    "$$d= (N_1-1)(N_2-1)$$\n",
    "où $N_1$  et $N_2$ sont le nombre de modalités de la première et deuxième variable, respectivement.\n",
    "\n",
    "Enfin, dans la pratique, il est courant de conclure que les deux variables ne sont pas indépendantes si la *p-value*, que l'on obtient par les instructions suivantes, est inférieure à 0.05 :"
   ]
  },
  {
   "cell_type": "code",
   "execution_count": null,
   "metadata": {
    "collapsed": false,
    "deletable": true,
    "editable": true
   },
   "outputs": [],
   "source": [
    "from scipy.stats import chi2\n",
    "\n",
    "N1 = len(etu['TP'].unique()) # nb de modalites de la premiere variable\n",
    "N2 = len(etu['Sexe'].unique()) # nb de modalites de la 2e variable\n",
    "d = (N1-1)*(N2-1)  # degré de liberté \n",
    "p_value = 1-chi2.cdf(stat_chi2,d)\n",
    "print 'p_value', p_value"
   ]
  },
  {
   "cell_type": "markdown",
   "metadata": {
    "deletable": true,
    "editable": true
   },
   "source": [
    "# Exercice\n",
    "\n",
    "Nous allons étudier des données sur (une partie) des passagers du *RMS Titanic*, qui a fait naufrage en avril 1912. \n",
    "Nous disposons, entre autre,  des informations suivantes sur les passagers : le nom, le sexe, l'âge, le port d'embarcation, le prix du billet, la classe et, bien sûr, l'information si le passager a survécu au naufrage ou pas. \n",
    " \n",
    "\n",
    "1. Importer le tableau des données disponible à l'adresse http://www.proba.jussieu.fr/pageperso/rebafka/titanic-passengers.csv\n",
    "\n",
    "2. - Familiarisez-vous avec les données (taille du tableau, type des variables etc.). \n",
    "   - Vérifier s'il y a des **NaN** (mais ne supprimer pas les lignes correspondantes s'il y en a).\n",
    "   - Créer un tableau qui ne contient que les variables **Survived**, **Pclass**, **Sex**, **Age**, **Fare** et **Embarked**. \n",
    "\n",
    "3. - Tracer l'histogramme de la répartition de l'âge des passagers. \n",
    "   - Pour cet exercice, au lieu de travailler avec l'âge exacte des passagers,  on préfère regrouper les passagers par   tranches d'âge : ajouter une colonne nommée **Tranche d'age** au tableau qui indique l'âge par   tranche de dix ans. Par exemple, on mettra 0 pour des enfants de moins de 10, 10 pour les personnes de 10 à 19 etc.\n",
    "\n",
    "4. Nous nous intéressons particulièrement à la variable **Survived** et à la question si cette variable est indépendante des autres variables. \n",
    "    - Pour commencer, calculer la proportion de passagers ayant survécu. \n",
    "    - Ensuite, calculer le nombre et la proportion de femmes et puis d'hommes qui ont survécu. \n",
    "    - Représenter ces valeurs par un diagramme en bâtons. \n",
    "    - Est-ce que les variables **Survived** et **Sex** semblent être  indépendantes ?\n",
    "\n",
    "5. \n",
    "    - Ecrire une fonction qui prend en argument une variable **var** du tableau de données. Cette fonction  trace le diagramme en bâtons  représentant le nombre de survivants/morts par groupe donné par la variable **var**. (Autrement dit, si **var** est la variable **Sex**, on obtient le même diagramme qu'à la question précédente.) \n",
    "    - Appliquer cette fonction aux variables  **Pclass**,  **Tranche d'age** et **Embarked** et interpréter les graphiques.\n",
    "\n",
    "6. Calculer la statisique de $\\chi^2$ et la *p-value* correspondante\n",
    "pour tester l'indépendance des variables **Survived** et **Sex**. Interpréter le résultat.\n",
    "\n",
    "7.  - Ecrire une fontion qui prend en argument une variable **var** du tableau de données. Cette fonction calcule la statisique de $\\chi^2$ et la *p-value* correspondante pour tester l'indépendance des variables **Survived** et **var**.\n",
    "    - Appliquer cette fonction aux variables  **Pclass**,  **Tranche d'age** et **Embarked** et interpréter les résultats. \n",
    "8.  - Calculer la variance intra-classes et la variance inter-classes pour les variables **Fare** et **Survived** (on prendra les valeurs **Yes** et **No** pour définir les classes). Calculer la statistique F.\n",
    "    - Faire de même pour les variables **Age** et **Survived**. Quelle variable entre **Fare** et **Age** serait la plus utile pour prédire si un passager à survécu au naufrage ou pas ?\n",
    "       \n",
    "\n",
    "    \n"
   ]
  }
 ],
 "metadata": {
  "anaconda-cloud": {},
  "kernelspec": {
   "display_name": "3M248",
   "language": "python",
   "name": "3m248"
  },
  "language_info": {
   "codemirror_mode": {
    "name": "ipython",
    "version": 2
   },
   "file_extension": ".py",
   "mimetype": "text/x-python",
   "name": "python",
   "nbconvert_exporter": "python",
   "pygments_lexer": "ipython2",
   "version": "2.7.13"
  }
 },
 "nbformat": 4,
 "nbformat_minor": 0
}
