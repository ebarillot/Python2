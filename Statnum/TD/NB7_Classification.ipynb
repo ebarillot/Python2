{
 "cells": [
  {
   "cell_type": "markdown",
   "metadata": {},
   "source": [
    "# Classification"
   ]
  },
  {
   "cell_type": "code",
   "execution_count": 1,
   "metadata": {},
   "outputs": [],
   "source": [
    "%matplotlib inline\n",
    "import matplotlib.pyplot as plt\n",
    "import numpy as np\n",
    "import pandas as pd"
   ]
  },
  {
   "cell_type": "markdown",
   "metadata": {},
   "source": [
    "## Importation des données"
   ]
  },
  {
   "cell_type": "markdown",
   "metadata": {},
   "source": [
    "Le fichier \"AffinitesVotesONU.txt\" est organisé comme indiqué ci-dessous :\n",
    "- Une ligne renseigne la similarité des votes pour deux pays pendant une année.\n",
    "- Les états sont codés par les champs \"statea\" et \"stateb\". \n",
    "- Le champ  \"year\" donne l'année considérée pour la comparaison des votes.\n",
    "- Plusieurs indices de comparaison des votes sont fournis, dans la suite on s'intéresse à l'indice de similarité sur 3 niveaux  de votes (oui / non / abstension) :  \"agree3un\"."
   ]
  },
  {
   "cell_type": "markdown",
   "metadata": {},
   "source": [
    "Le fichier \"StateList.csv\" est organisé comme indiqué ci-dessous :\n",
    "- Une ligne correspond à un pays.\n",
    "- Le champ \"StateAbb\" nous donne les abréviations (utile pour les représentations graphiques)\n",
    "- Le champ \"state\" est le même code que celui utilisé dans VotingFull\n",
    "- Le champ \"CodeTP\" est simplement le numéro de ligne\n",
    "- Les champs \"OPEP\" et \"UE\" renseignent l'année d'entrée dans l'OPEP ou dans l'UE (0 sinon)."
   ]
  },
  {
   "cell_type": "markdown",
   "metadata": {},
   "source": [
    "Les données étudiées dans ce TP provienne de la plateforme de données [Dataverse](https://dataverse.harvard.edu/dataset.xhtml?persistentId=hdl:1902.1/12379), elles contiennent des indices de similarité entre les votes des pays à l'ONU. \n",
    "\n",
    "### Question 1.\n",
    "Importez les données et affichez les premières lignes de chaque tableau de données. Vous nommerez <code>VotingFull</code> le dataframe contenant les données de \"AffinitesVotesONU.txt\" et vous nommerez <code>ListCountry</code> le dataframe contenant les données de \"StateList.csv\""
   ]
  },
  {
   "cell_type": "code",
   "execution_count": null,
   "metadata": {},
   "outputs": [],
   "source": []
  },
  {
   "cell_type": "markdown",
   "metadata": {},
   "source": [
    "Affichage des premières lignes de `VotingFull` et `ListCountry`:"
   ]
  },
  {
   "cell_type": "code",
   "execution_count": null,
   "metadata": {},
   "outputs": [],
   "source": []
  },
  {
   "cell_type": "markdown",
   "metadata": {},
   "source": [
    "# Extraction des similarités de vote pour une periode donnée"
   ]
  },
  {
   "cell_type": "code",
   "execution_count": 2,
   "metadata": {},
   "outputs": [
    {
     "ename": "NameError",
     "evalue": "name 'ListCountry' is not defined",
     "output_type": "error",
     "traceback": [
      "\u001b[1;31m---------------------------------------------------------------------------\u001b[0m",
      "\u001b[1;31mNameError\u001b[0m                                 Traceback (most recent call last)",
      "\u001b[1;32m<ipython-input-2-65028bc06b29>\u001b[0m in \u001b[0;36m<module>\u001b[1;34m()\u001b[0m\n\u001b[0;32m      4\u001b[0m \u001b[1;33m\u001b[0m\u001b[0m\n\u001b[0;32m      5\u001b[0m \u001b[1;31m# indice max des indices \"state\" (.values : syntaxe numpy )\u001b[0m\u001b[1;33m\u001b[0m\u001b[1;33m\u001b[0m\u001b[0m\n\u001b[1;32m----> 6\u001b[1;33m \u001b[0mmaxstate\u001b[0m \u001b[1;33m=\u001b[0m \u001b[0mmax\u001b[0m\u001b[1;33m(\u001b[0m\u001b[0mListCountry\u001b[0m\u001b[1;33m.\u001b[0m\u001b[0mstate\u001b[0m\u001b[1;33m.\u001b[0m\u001b[0mvalues\u001b[0m\u001b[1;33m)\u001b[0m\u001b[1;33m\u001b[0m\u001b[0m\n\u001b[0m\u001b[0;32m      7\u001b[0m \u001b[1;32mprint\u001b[0m\u001b[1;33m(\u001b[0m\u001b[1;34m\"indice max de state : \"\u001b[0m \u001b[1;33m+\u001b[0m \u001b[0mstr\u001b[0m\u001b[1;33m(\u001b[0m\u001b[0mmaxstate\u001b[0m\u001b[1;33m)\u001b[0m\u001b[1;33m)\u001b[0m\u001b[1;33m\u001b[0m\u001b[0m\n\u001b[0;32m      8\u001b[0m \u001b[1;33m\u001b[0m\u001b[0m\n",
      "\u001b[1;31mNameError\u001b[0m: name 'ListCountry' is not defined"
     ]
    }
   ],
   "source": [
    "# periode étudiée :\n",
    "annee_debut = 2000\n",
    "annee_fin  = 2015   \n",
    "\n",
    "# indice max des indices \"state\" (.values : syntaxe numpy )\n",
    "maxstate = max(ListCountry.state.values)\n",
    "print(\"indice max de state : \" + str(maxstate))\n",
    "\n",
    "# indice max dans CodeTP : \n",
    "maxCodeTP = max(ListCountry.CodeTP.values)\n",
    "print(\"indice max de CodeTP : \" + str(maxCodeTP))"
   ]
  },
  {
   "cell_type": "markdown",
   "metadata": {},
   "source": [
    "Une ligne de `VotingFull` nous renseigne sur la dissemblance entre deux pays (indiqués par le codage `state`). Cependant utiliser le codage `state` pour définir les lignes et les colonnes de la matrice de dissemblance pose problème car le code `state` oublie de nombreux entiers, la matrice de dissemblance ainsi construite comporterait de nombreuses lignes et colonnes inutiles. Nous allons donc utiliser le code ad-hoc `CodeTP` qui lui ne saute pas d'entiers.\n",
    "\n",
    "Le vecteur `Translate` ci-dessous permet de passer du codage `state` au codage `CodeTP`."
   ]
  },
  {
   "cell_type": "code",
   "execution_count": null,
   "metadata": {
    "collapsed": true
   },
   "outputs": [],
   "source": [
    "Translate = - np.ones(maxstate+1,dtype = int) \n",
    "for numline in range(maxCodeTP):\n",
    "    Translate[ListCountry.state[numline]] =  ListCountry.CodeTP[numline]"
   ]
  },
  {
   "cell_type": "markdown",
   "metadata": {},
   "source": [
    "Par exemple le pays de code statea = 40 a pour indice 3 (on part de 0) pour \"CodeTP\" :"
   ]
  },
  {
   "cell_type": "code",
   "execution_count": null,
   "metadata": {},
   "outputs": [],
   "source": [
    "Translate[40]"
   ]
  },
  {
   "cell_type": "markdown",
   "metadata": {},
   "source": [
    "### Création de la matrice de dissemblance `D` "
   ]
  },
  {
   "cell_type": "markdown",
   "metadata": {},
   "source": [
    "Les numéros de ligne et de colonnes de $D$ correspondent au code \"CodeTP\". On remplit la matrice de dissemblance en parcourant les lignes de VotingFull et en ne sélectionnant que celles dont l'année appartient à la période étudiée.\n",
    "\n",
    "La dissemblance d'une année t est définie par :  1 - agree3un(t).\n",
    "\n",
    "On cumule les dissemblances sur la periode étudiée : \n",
    "$$D (paysA,paysB) = \\sum_{t= debut} ^{fin}  (1- agree3un(t)) $$ \n",
    "\n",
    "On commence par créer une matrice de dissemblance de bonne dimension (remplie de zeros) :"
   ]
  },
  {
   "cell_type": "code",
   "execution_count": null,
   "metadata": {
    "collapsed": true
   },
   "outputs": [],
   "source": [
    "D = np.zeros((maxCodeTP+1,maxCodeTP+1)) "
   ]
  },
  {
   "cell_type": "markdown",
   "metadata": {},
   "source": [
    "### Question 2.\n",
    "Parcourez les lignes de <code>VotingFull</code> pour rempir la matrice $D$."
   ]
  },
  {
   "cell_type": "code",
   "execution_count": null,
   "metadata": {
    "collapsed": true
   },
   "outputs": [],
   "source": []
  },
  {
   "cell_type": "markdown",
   "metadata": {},
   "source": [
    "Cependant, certaines lignes n'ont pas été remplies. En effet tous les pays ne sont pas renseignés dans la matrice car certains pays n'existent pas ou plus à la date choisie. \n",
    "Par exemple : "
   ]
  },
  {
   "cell_type": "code",
   "execution_count": null,
   "metadata": {},
   "outputs": [],
   "source": [
    "D[50,]"
   ]
  },
  {
   "cell_type": "markdown",
   "metadata": {},
   "source": [
    "On doit retirer ces pays de la matrice de dissemblance, ce sont les pays dont les lignes ou colonnes ont une somme égale à 0 "
   ]
  },
  {
   "cell_type": "markdown",
   "metadata": {},
   "source": [
    "### Question 3.\n",
    "Calculez la matrice $Dextract$ qui correspond à la matrice de dissemblance $D$ dont on a enlevé les lignes ou colonnes qui ont une somme égale à 0."
   ]
  },
  {
   "cell_type": "code",
   "execution_count": null,
   "metadata": {},
   "outputs": [],
   "source": []
  },
  {
   "cell_type": "markdown",
   "metadata": {},
   "source": [
    "## Clustering hierarchique avec la librairie Scipy"
   ]
  },
  {
   "cell_type": "markdown",
   "metadata": {},
   "source": [
    "Le module cluster de la librairie Scipy contient de nombreuses fonctions permettant de mettre en oeuvre les méthodes de classification non supervisée. Nous allons utiliser la fonction hierarchy de ce module, qui offre notamment la possibilité de tracer le dendrogramme, voir http://docs.scipy.org/doc/scipy/reference/cluster.hierarchy.html#module-scipy.cluster.hierarchy.\n",
    "\n",
    "La première étape pour effectuer une classification hierarchique en utilisant consiste à calculer la matrice de distance. Classiquement cette étape est effectuée par la fonction pdist de scipy : http://docs.scipy.org/doc/scipy-0.14.0/reference/generated/scipy.spatial.distance.pdist.html Cette fonction renvoie une matrice sous forme condensée (en effet la matrice de distance étant symétrique, il n'est pas nécessaire de stocker tous ses coefficients). La seconde étape consiste à appliquer la fonction linkage à la matrice de distance condensée http://docs.scipy.org/doc/scipy-0.16.0/reference/generated/scipy.cluster.hierarchy.linkage.html\n",
    "\n",
    "Dans le cas présent, nous utiliserons la matrice de dissemblance calculée auparavant. Pour pouvoir lui appliquer la fonction linkage, il nous faut préalablement convertir la matrice de dissemblance sous une \"forme condensée\" :\n"
   ]
  },
  {
   "cell_type": "code",
   "execution_count": null,
   "metadata": {
    "collapsed": true
   },
   "outputs": [],
   "source": [
    "import scipy.spatial.distance as ssd # module scipy pour manipuler des distances \n",
    "distArray = ssd.squareform(Dextract)"
   ]
  },
  {
   "cell_type": "markdown",
   "metadata": {},
   "source": [
    "### Question 4.\n",
    "Appliquez la fonction <code>linkage</code> du module <code>cluster.hierarchy</code> pour produire un clustering dont vous représenterez le dendrogramme: \n",
    "- avec la méthode de plus courte distance (single linkage)\n",
    "- avec la méthode de Ward (ward linkage)"
   ]
  },
  {
   "cell_type": "code",
   "execution_count": null,
   "metadata": {
    "collapsed": true
   },
   "outputs": [],
   "source": []
  },
  {
   "cell_type": "markdown",
   "metadata": {},
   "source": [
    "Lorsqu'on ne connait pas le nombre de classes qu'il pourrait y avoir dans les données, on peut essayer de le \"deviner\" à partir du dendrogram. Pour cela, il existe plusieurs méthodes, l'une d'entre elle consiste à garder les classes à l'étape $i$ qui maximise la valeur $|h_{i+1} - h_i |$ où $h_i$ est la dissemblance entre les deux classes que l'on a fusionné à l'étape $i$. Sur un dendrogram, les $h_i$ correspondent aux plateaux et comme les $h_i$ sont croissant par rapport à $i$, la technique précedente revient à couper le graphique là où le saut entre deux plateaux consécutifs est le plus grand.\n",
    "\n",
    "### Question 5.\n",
    "Déterminez avec la méthode décrite précédemment combien de classes devrait-on garder pour le dendrogram réalisé avec la méthode de Ward. Utilisez la fonction <code>fcluster</code> du module <code>cluster.hierarchy</code> pour retrouver les classes. Pour chaque classe, affichez les noms des pays y appartenant (Attention, lors du calcul de la matrice de dissemblance nous avons enlever des pays qui n'avaient pas voté durant la période étudiée, il faudra penser à les enlever ici aussi). "
   ]
  },
  {
   "cell_type": "code",
   "execution_count": null,
   "metadata": {},
   "outputs": [],
   "source": []
  },
  {
   "cell_type": "markdown",
   "metadata": {},
   "source": [
    "### Question 6.\n",
    "Affichez un diagramme en bâtons avec un bâton qui représente le nombre de pays ayant rejoint l'OPEP (par classes)  et avec un bâton qui représente le nombre de pays ayant rejoint l'UE (par classes). Que remarquez-vous ?"
   ]
  },
  {
   "cell_type": "code",
   "execution_count": null,
   "metadata": {},
   "outputs": [],
   "source": []
  }
 ],
 "metadata": {
  "kernelspec": {
   "display_name": "Python [default]",
   "language": "python",
   "name": "python2"
  },
  "language_info": {
   "codemirror_mode": {
    "name": "ipython",
    "version": 2
   },
   "file_extension": ".py",
   "mimetype": "text/x-python",
   "name": "python",
   "nbconvert_exporter": "python",
   "pygments_lexer": "ipython2",
   "version": "2.7.14"
  }
 },
 "nbformat": 4,
 "nbformat_minor": 1
}
