{
 "cells": [
  {
   "cell_type": "code",
   "execution_count": null,
   "metadata": {
    "collapsed": true
   },
   "outputs": [],
   "source": [
    "%matplotlib nbagg\n",
    "import numpy as np\n",
    "import pandas as pd\n",
    "import matplotlib\n",
    "import matplotlib.pyplot as plt\n",
    "from mpl_toolkits.mplot3d import Axes3D\n",
    "from mpl_toolkits.mplot3d import proj3d\n",
    "from sklearn.decomposition import PCA  \n",
    "from IPython.display import Image"
   ]
  },
  {
   "cell_type": "markdown",
   "metadata": {},
   "source": [
    "# Exercice à rendre\n",
    "\n",
    "\n",
    "Dans cet exercice, nous allons analyser des données sur les joueurs de basket. Les données sont disponible sur Moodle sous le nom \"NBA.csv\"."
   ]
  },
  {
   "cell_type": "markdown",
   "metadata": {},
   "source": [
    "Les données étudiées ici s’appuient sur les résultats de quatre équipes lors de la saison régulière 2012-2013. \n",
    "Pour chacun des 69 joueurs, les informations que nous avons sont les suivantes :\n",
    "- Taille (Height)\n",
    "- Poids (Width) \n",
    "- Age (Age)\n",
    "- Salaire (Salary)\n",
    "- Equipe (Team)\n",
    "- Poste occupé (Position)\n",
    "- Nombre de matchs joués (Games played)\n",
    "- Nombre de minutes jouées (Minutes)\n",
    "- Paniers à 2 points réussis (en moyenne durant un match) (Fields goals made)\n",
    "- Paniers à 2 points tentés (en moyenne durant un match) (Fields goal attempted)\n",
    "- Pourcentage de paniers à 2 points réussis (en moyenne durant un match) (%Fields goal made)\n",
    "- Nombre de paniers à 3 points réussis (en moyenne durant un match) (3pts FGM)\n",
    "- Nombre de paniers à 3 points tentés (en moyenne durant un match) (3pts FGA)\n",
    "- Pourcentage de paniers à 3 points réussis (en moyenne durant un match) (% 3pts FG)\n",
    "- Nombre de lancers francs réussis (en moyenne durant un match) (Free throws made)\n",
    "- Nombre de lancers francs tentés (en moyenne durant un match) (Free throws attempted)\n",
    "- Pourcentage de lancers francs réussis (en moyenne durant un match) (% FT)\n",
    "- Nombre de rebonds offensifs (en moyenne durant un match) (Off rebond)\n",
    "- Nombre de rebonds défensifs (en moyenne durant un match) (Def rebond)\n",
    "- Nombre total de rebonds (en moyenne durant un match) (Total rebond)\n",
    "- Nombre de passes décisives (en moyenne durant un match) (Assits)\n",
    "- Nombre de ballons perdus (en moyenne durant un match) (Turnover)\n",
    "- Nombre d’interceptions (en moyenne durant un match) (Steals)\n",
    "- Nombre de blocs tentés (en moyenne durant un match) (Blocks)\n",
    "- Nombre de blocs réussis (en moyenne durant un match) (Blocked fields goals attempted)\n",
    "- Fautes subies (en moyenne durant un match) (Personnal fouls)\n",
    "- Fautes provoquées (en moyenne durant un match) (Personnal fouls drawn)\n",
    "- Nombre de points marqués (en moyenne durant un match) (Points)\n",
    "- Différence de score pendant la présence du joueur sur le terrain (en moyenne durant un match) (Point differential of the score)\n",
    "\n",
    "Ces informations ont été prises sur le site www.NBA.com. Voici un graphique qui montre à quels emplacements correspondes les valeurs de la variable position:"
   ]
  },
  {
   "cell_type": "code",
   "execution_count": null,
   "metadata": {},
   "outputs": [],
   "source": [
    "Image(url='http://upload.wikimedia.org/wikipedia/commons/a/ac/Basketball_Positions.png')"
   ]
  },
  {
   "cell_type": "markdown",
   "metadata": {},
   "source": [
    "Vous répondrez aux questions soit dans ce même notebook, dans un autre notebook ou dans un script python. Dans tous les cas, indiquez clairement le numéro des questions auxquelles vous répondez. Renommez le fichier en **Nom_Prénom_NB8**, puis déposez le sur Moodle dans la rubrique devoirs."
   ]
  },
  {
   "cell_type": "markdown",
   "metadata": {},
   "source": [
    "1. Importez les données sous forme d'un dataframe. Familiarisez-vous avec le tableau des données : Vérifiez la taille du tableau, regardez le type des différentes variables etc.\n",
    "\n",
    " ##### Variables qualitatives\n",
    " ---\n",
    "\n",
    "2. Transformez les variables **Height** (notée $H$) et **Fields goal attempted** (notée $G$) en variables qualitatives de la manière suivante. Ajoutez dans le dataframe une variable **Taille** qui prends pour valeurs 'petit' lorsque $H\\in[0,1.95)$, 'moyen' lorsque $H\\in[1.95,2.06)$ et 'long' lorsque $H\\in[2.06,3)$. Ajoutez aussi une variable **Tirs** qui prends pour valeurs 'peu' lorsque $G\\in[0,5)$, 'normal' lorsque $G\\in[5,15)$ et 'beaucoup' lorsque $G\\in[15,30)$.\n",
    "\n",
    "3. Calculez la distance du $\\chi^2$ entre les variables **Position** et **Taille**. Calculez la distance du $\\chi^2$ entre les variables **Position** et **Tirs**. Qu'est ce que vous en concluez ?\n",
    "\n",
    " ##### Données multivariées et ACP\n",
    " ---\n",
    "\n",
    "4. Affichez le nuage de points en dimension 2 pour les variables **Height** et **Weight**. Affichez le nuage de points en dimension 3 pour les variables **Height**, **Weight** et **Blocks**.\n",
    "\n",
    "5. Effectuez une ACP (en gardant toutes les composantes).\n",
    "\n",
    "6. Donnez la part de la variance expliquée par les différentes composantes principales. Combien de composantes principales faut-il au minimum pour que la part de la variance expliquée soit supérieur à $0.9$ ? Avec quel graphique peut-on répondre à la question précédente ? Affichez ce graphique.\n",
    "\n",
    "7. Affichez le nuage des points des deux premières composantes principales.\n",
    "\n",
    "8. Modifiez le graphique prédédent (question 8) pour que les points aient une couleur différente selon les valeurs de la variable **Position**. Projetez les individus moyens (barycentres) par rapport aux valeurs de la variable **Position** sur les deux premières composantes principales et affichez-les sur le nuage des points. Que remarquez-vous ? (Un individu moyen pour un certain groupe se calcule en faisant la moyenne de toutes les variables quantitatives sur l'ensemble des individus appartenant à ce groupe)"
   ]
  }
 ],
 "metadata": {
  "kernelspec": {
   "display_name": "Python 2",
   "language": "python",
   "name": "python2"
  },
  "language_info": {
   "codemirror_mode": {
    "name": "ipython",
    "version": 2
   },
   "file_extension": ".py",
   "mimetype": "text/x-python",
   "name": "python",
   "nbconvert_exporter": "python",
   "pygments_lexer": "ipython2",
   "version": "2.7.14"
  }
 },
 "nbformat": 4,
 "nbformat_minor": 2
}
