{
 "cells": [
  {
   "cell_type": "markdown",
   "metadata": {},
   "source": [
    "# Classification"
   ]
  },
  {
   "cell_type": "code",
   "execution_count": 1,
   "metadata": {
    "collapsed": true
   },
   "outputs": [],
   "source": [
    "%matplotlib inline\n",
    "import matplotlib.pyplot as plt\n",
    "import numpy as np\n",
    "import pandas as pd"
   ]
  },
  {
   "cell_type": "markdown",
   "metadata": {},
   "source": [
    "## Importation des données"
   ]
  },
  {
   "cell_type": "markdown",
   "metadata": {},
   "source": [
    "Le fichier \"AffinitesVotesONU.txt\" est organisé comme indiqué ci-dessous :\n",
    "- Une ligne renseigne la similarité des votes pour deux pays pendant une année.\n",
    "- Les états sont codés par les champs \"statea\" et \"stateb\". \n",
    "- Le champ  \"year\" donne l'année considérée pour la comparaison des votes.\n",
    "- Plusieurs indices de comparaison des votes sont fournis, dans la suite on s'intéresse à l'indice de similarité sur 3 niveaux  de votes (oui / non / abstension) :  \"agree3un\"."
   ]
  },
  {
   "cell_type": "markdown",
   "metadata": {},
   "source": [
    "Le fichier \"StateList.csv\" est organisé comme indiqué ci-dessous :\n",
    "- Une ligne correspond à un pays.\n",
    "- Le champ \"StateAbb\" nous donne les abréviations (utile pour les représentations graphiques)\n",
    "- Le champ \"state\" est le même code que celui utilisé dans VotingFull\n",
    "- Le champ \"CodeTP\" est simplement le numéro de ligne\n",
    "- Les champs \"OPEP\" et \"UE\" renseignent l'année d'entrée dans l'OPEP ou dans l'UE (0 sinon)."
   ]
  },
  {
   "cell_type": "markdown",
   "metadata": {},
   "source": [
    "Les données étudiées dans ce TP provienne de la plateforme de données [Dataverse](https://dataverse.harvard.edu/dataset.xhtml?persistentId=hdl:1902.1/12379), elles contiennent des indices de similarité entre les votes des pays à l'ONU. \n",
    "\n",
    "### Question 1.\n",
    "Importez les données et affichez les premières lignes de chaque tableau de données. Vous nommerez <code>VotingFull</code> le dataframe contenant les données de \"AffinitesVotesONU.txt\" et vous nommerez <code>ListCountry</code> le dataframe contenant les données de \"StateList.csv\""
   ]
  },
  {
   "cell_type": "code",
   "execution_count": 2,
   "metadata": {
    "collapsed": true
   },
   "outputs": [],
   "source": [
    "VotingFull = pd.read_csv(\"AffinitesVotesONU.txt\",delim_whitespace=True,header=0)\n",
    "\n",
    "ListCountry = pd.read_csv(\"StateList.csv\",header=0)"
   ]
  },
  {
   "cell_type": "markdown",
   "metadata": {},
   "source": [
    "Affichage des premières lignes de `VotingFull` et `ListCountry`:"
   ]
  },
  {
   "cell_type": "code",
   "execution_count": 3,
   "metadata": {},
   "outputs": [
    {
     "data": {
      "text/html": [
       "<div>\n",
       "<style>\n",
       "    .dataframe thead tr:only-child th {\n",
       "        text-align: right;\n",
       "    }\n",
       "\n",
       "    .dataframe thead th {\n",
       "        text-align: left;\n",
       "    }\n",
       "\n",
       "    .dataframe tbody tr th {\n",
       "        vertical-align: top;\n",
       "    }\n",
       "</style>\n",
       "<table border=\"1\" class=\"dataframe\">\n",
       "  <thead>\n",
       "    <tr style=\"text-align: right;\">\n",
       "      <th></th>\n",
       "      <th>dyadidyr</th>\n",
       "      <th>cntryera</th>\n",
       "      <th>cntryerb</th>\n",
       "      <th>statea</th>\n",
       "      <th>stateb</th>\n",
       "      <th>stateaname</th>\n",
       "      <th>statebname</th>\n",
       "      <th>year</th>\n",
       "      <th>s2un</th>\n",
       "      <th>s3un</th>\n",
       "      <th>agree2un</th>\n",
       "      <th>agree3un</th>\n",
       "      <th>jointvotes2</th>\n",
       "      <th>jointvotes3</th>\n",
       "    </tr>\n",
       "  </thead>\n",
       "  <tbody>\n",
       "    <tr>\n",
       "      <th>0</th>\n",
       "      <td>2020946</td>\n",
       "      <td>21946</td>\n",
       "      <td>201946</td>\n",
       "      <td>2</td>\n",
       "      <td>20</td>\n",
       "      <td>United States of America</td>\n",
       "      <td>Canada</td>\n",
       "      <td>1946</td>\n",
       "      <td>0.7435897435897436</td>\n",
       "      <td>0.714286</td>\n",
       "      <td>0.8717948717948718</td>\n",
       "      <td>0.857143</td>\n",
       "      <td>39</td>\n",
       "      <td>42</td>\n",
       "    </tr>\n",
       "    <tr>\n",
       "      <th>1</th>\n",
       "      <td>2020947</td>\n",
       "      <td>21947</td>\n",
       "      <td>201947</td>\n",
       "      <td>2</td>\n",
       "      <td>20</td>\n",
       "      <td>United States of America</td>\n",
       "      <td>Canada</td>\n",
       "      <td>1947</td>\n",
       "      <td>0.8857142857142857</td>\n",
       "      <td>0.842105</td>\n",
       "      <td>0.9428571428571428</td>\n",
       "      <td>0.921053</td>\n",
       "      <td>35</td>\n",
       "      <td>38</td>\n",
       "    </tr>\n",
       "    <tr>\n",
       "      <th>2</th>\n",
       "      <td>2020948</td>\n",
       "      <td>21948</td>\n",
       "      <td>201948</td>\n",
       "      <td>2</td>\n",
       "      <td>20</td>\n",
       "      <td>United States of America</td>\n",
       "      <td>Canada</td>\n",
       "      <td>1948</td>\n",
       "      <td>0.8426966292134832</td>\n",
       "      <td>0.740385</td>\n",
       "      <td>0.9213483146067416</td>\n",
       "      <td>0.870192</td>\n",
       "      <td>89</td>\n",
       "      <td>104</td>\n",
       "    </tr>\n",
       "    <tr>\n",
       "      <th>3</th>\n",
       "      <td>2020949</td>\n",
       "      <td>21949</td>\n",
       "      <td>201949</td>\n",
       "      <td>2</td>\n",
       "      <td>20</td>\n",
       "      <td>United States of America</td>\n",
       "      <td>Canada</td>\n",
       "      <td>1949</td>\n",
       "      <td>0.9512195121951219</td>\n",
       "      <td>0.781250</td>\n",
       "      <td>0.975609756097561</td>\n",
       "      <td>0.890625</td>\n",
       "      <td>41</td>\n",
       "      <td>64</td>\n",
       "    </tr>\n",
       "    <tr>\n",
       "      <th>4</th>\n",
       "      <td>2020950</td>\n",
       "      <td>21950</td>\n",
       "      <td>201950</td>\n",
       "      <td>2</td>\n",
       "      <td>20</td>\n",
       "      <td>United States of America</td>\n",
       "      <td>Canada</td>\n",
       "      <td>1950</td>\n",
       "      <td>0.8048780487804879</td>\n",
       "      <td>0.641509</td>\n",
       "      <td>0.9024390243902439</td>\n",
       "      <td>0.820755</td>\n",
       "      <td>41</td>\n",
       "      <td>53</td>\n",
       "    </tr>\n",
       "  </tbody>\n",
       "</table>\n",
       "</div>"
      ],
      "text/plain": [
       "   dyadidyr  cntryera  cntryerb  statea  stateb                stateaname  \\\n",
       "0   2020946     21946    201946       2      20  United States of America   \n",
       "1   2020947     21947    201947       2      20  United States of America   \n",
       "2   2020948     21948    201948       2      20  United States of America   \n",
       "3   2020949     21949    201949       2      20  United States of America   \n",
       "4   2020950     21950    201950       2      20  United States of America   \n",
       "\n",
       "  statebname  year                s2un      s3un            agree2un  \\\n",
       "0     Canada  1946  0.7435897435897436  0.714286  0.8717948717948718   \n",
       "1     Canada  1947  0.8857142857142857  0.842105  0.9428571428571428   \n",
       "2     Canada  1948  0.8426966292134832  0.740385  0.9213483146067416   \n",
       "3     Canada  1949  0.9512195121951219  0.781250   0.975609756097561   \n",
       "4     Canada  1950  0.8048780487804879  0.641509  0.9024390243902439   \n",
       "\n",
       "   agree3un jointvotes2  jointvotes3  \n",
       "0  0.857143          39           42  \n",
       "1  0.921053          35           38  \n",
       "2  0.870192          89          104  \n",
       "3  0.890625          41           64  \n",
       "4  0.820755          41           53  "
      ]
     },
     "execution_count": 3,
     "metadata": {},
     "output_type": "execute_result"
    }
   ],
   "source": [
    "VotingFull.head()"
   ]
  },
  {
   "cell_type": "code",
   "execution_count": 4,
   "metadata": {},
   "outputs": [
    {
     "data": {
      "text/html": [
       "<div>\n",
       "<style>\n",
       "    .dataframe thead tr:only-child th {\n",
       "        text-align: right;\n",
       "    }\n",
       "\n",
       "    .dataframe thead th {\n",
       "        text-align: left;\n",
       "    }\n",
       "\n",
       "    .dataframe tbody tr th {\n",
       "        vertical-align: top;\n",
       "    }\n",
       "</style>\n",
       "<table border=\"1\" class=\"dataframe\">\n",
       "  <thead>\n",
       "    <tr style=\"text-align: right;\">\n",
       "      <th></th>\n",
       "      <th>StateAbb</th>\n",
       "      <th>state</th>\n",
       "      <th>StateNme</th>\n",
       "      <th>CodeTP</th>\n",
       "      <th>OPEP</th>\n",
       "      <th>UE</th>\n",
       "    </tr>\n",
       "  </thead>\n",
       "  <tbody>\n",
       "    <tr>\n",
       "      <th>0</th>\n",
       "      <td>USA</td>\n",
       "      <td>2</td>\n",
       "      <td>United States of America</td>\n",
       "      <td>0</td>\n",
       "      <td>0</td>\n",
       "      <td>0</td>\n",
       "    </tr>\n",
       "    <tr>\n",
       "      <th>1</th>\n",
       "      <td>CAN</td>\n",
       "      <td>20</td>\n",
       "      <td>Canada</td>\n",
       "      <td>1</td>\n",
       "      <td>0</td>\n",
       "      <td>0</td>\n",
       "    </tr>\n",
       "    <tr>\n",
       "      <th>2</th>\n",
       "      <td>BHM</td>\n",
       "      <td>31</td>\n",
       "      <td>Bahamas</td>\n",
       "      <td>2</td>\n",
       "      <td>0</td>\n",
       "      <td>0</td>\n",
       "    </tr>\n",
       "    <tr>\n",
       "      <th>3</th>\n",
       "      <td>CUB</td>\n",
       "      <td>40</td>\n",
       "      <td>Cuba</td>\n",
       "      <td>3</td>\n",
       "      <td>0</td>\n",
       "      <td>0</td>\n",
       "    </tr>\n",
       "    <tr>\n",
       "      <th>4</th>\n",
       "      <td>HAI</td>\n",
       "      <td>41</td>\n",
       "      <td>Haiti</td>\n",
       "      <td>4</td>\n",
       "      <td>0</td>\n",
       "      <td>0</td>\n",
       "    </tr>\n",
       "  </tbody>\n",
       "</table>\n",
       "</div>"
      ],
      "text/plain": [
       "  StateAbb  state                  StateNme  CodeTP  OPEP  UE\n",
       "0      USA      2  United States of America       0     0   0\n",
       "1      CAN     20                    Canada       1     0   0\n",
       "2      BHM     31                   Bahamas       2     0   0\n",
       "3      CUB     40                      Cuba       3     0   0\n",
       "4      HAI     41                     Haiti       4     0   0"
      ]
     },
     "execution_count": 4,
     "metadata": {},
     "output_type": "execute_result"
    }
   ],
   "source": [
    "ListCountry.head()"
   ]
  },
  {
   "cell_type": "markdown",
   "metadata": {},
   "source": [
    "# Extraction des similarités de vote pour une periode donnée"
   ]
  },
  {
   "cell_type": "code",
   "execution_count": 5,
   "metadata": {},
   "outputs": [
    {
     "name": "stdout",
     "output_type": "stream",
     "text": [
      "indice max de state : 990\n",
      "indice max de CodeTP : 216\n"
     ]
    }
   ],
   "source": [
    "# periode étudiée :\n",
    "annee_debut = 2000\n",
    "annee_fin  = 2015   \n",
    "\n",
    "# indice max des indices \"state\" (.values : syntaxe numpy )\n",
    "maxstate = max(ListCountry.state.values)\n",
    "print(\"indice max de state : \" + str(maxstate))\n",
    "\n",
    "# indice max dans CodeTP : \n",
    "maxCodeTP = max(ListCountry.CodeTP.values)\n",
    "print(\"indice max de CodeTP : \" + str(maxCodeTP))"
   ]
  },
  {
   "cell_type": "markdown",
   "metadata": {},
   "source": [
    "Une ligne de `VotingFull` nous renseigne sur la dissemblance entre deux pays (indiqués par le codage `state`). Cependant utiliser le codage `state` pour définir les lignes et les colonnes de la matrice de dissemblance pose problème car le code `state` oublie de nombreux entiers, la matrice de dissemblance ainsi construite comporterait de nombreuses lignes et colonnes inutiles. Nous allons donc utiliser le code ad-hoc `CodeTP` qui lui ne saute pas d'entiers.\n",
    "\n",
    "Le vecteur `Translate` ci-dessous permet de passer du codage `state` au codage `CodeTP`."
   ]
  },
  {
   "cell_type": "code",
   "execution_count": 6,
   "metadata": {
    "collapsed": true
   },
   "outputs": [],
   "source": [
    "Translate = - np.ones(maxstate+1,dtype = int) \n",
    "for numline in range(maxCodeTP):\n",
    "    Translate[ListCountry.state[numline]] =  ListCountry.CodeTP[numline]"
   ]
  },
  {
   "cell_type": "markdown",
   "metadata": {},
   "source": [
    "Par exemple le pays de code statea = 40 a pour indice 3 (on part de 0) pour \"CodeTP\" :"
   ]
  },
  {
   "cell_type": "code",
   "execution_count": 7,
   "metadata": {},
   "outputs": [
    {
     "data": {
      "text/plain": [
       "3"
      ]
     },
     "execution_count": 7,
     "metadata": {},
     "output_type": "execute_result"
    }
   ],
   "source": [
    "Translate[40]"
   ]
  },
  {
   "cell_type": "markdown",
   "metadata": {},
   "source": [
    "### Création de la matrice de dissemblance `D` "
   ]
  },
  {
   "cell_type": "markdown",
   "metadata": {},
   "source": [
    "Les numéros de ligne et de colonnes de $D$ correspondent au code \"CodeTP\". On remplit la matrice de dissemblance en parcourant les lignes de VotingFull et en ne sélectionnant que celles dont l'année appartient à la période étudiée.\n",
    "\n",
    "La dissemblance d'une année t est définie par :  1 - agree3un(t).\n",
    "\n",
    "On cumule les dissemblances sur la periode étudiée : \n",
    "$$D (paysA,paysB) = \\sum_{t= debut} ^{fin}  (1- agree3un(t)) $$ \n",
    "\n",
    "On commence par créer une matrice de dissemblance de bonne dimension (remplie de zeros) :"
   ]
  },
  {
   "cell_type": "code",
   "execution_count": 8,
   "metadata": {
    "collapsed": true
   },
   "outputs": [],
   "source": [
    "D = np.zeros((maxCodeTP+1,maxCodeTP+1)) "
   ]
  },
  {
   "cell_type": "markdown",
   "metadata": {},
   "source": [
    "### Question 2.\n",
    "Parcourez les lignes de <code>VotingFull</code> pour rempir la matrice $D$."
   ]
  },
  {
   "cell_type": "code",
   "execution_count": 9,
   "metadata": {
    "collapsed": true
   },
   "outputs": [],
   "source": [
    "# boucle sur les lignes de VotingFull (prend une petite minute)\n",
    "for numline in range(VotingFull.shape[0]):\n",
    "    if (VotingFull.year[numline] >= annee_debut)&(VotingFull.year[numline] <= annee_fin): \n",
    "        D[Translate[VotingFull.statea[numline]],Translate[VotingFull.stateb[numline]]] +=  1-VotingFull.agree3un[numline]\n",
    "        D[Translate[VotingFull.stateb[numline]],Translate[VotingFull.statea[numline]]] +=  1- VotingFull.agree3un[numline]"
   ]
  },
  {
   "cell_type": "code",
   "execution_count": 10,
   "metadata": {},
   "outputs": [
    {
     "name": "stdout",
     "output_type": "stream",
     "text": [
      "[  0.           5.2496744    9.75857272  10.77747037   9.78953298\n",
      "   9.75748166   9.98083881   9.91486942  10.11394731   9.93216728\n",
      "   9.41652027  10.0568149   10.16539219  10.13268824   9.34052848\n",
      "   9.64490069   9.9953602    9.41668022   9.29922823   9.59975342\n",
      "   9.90979232   9.490892     9.25631945   9.80575016  10.64067861\n",
      "  10.1335239    9.96042724  10.24666294   9.37770227   9.7431642\n",
      "  10.12043719   9.69359025   9.41274706   9.0350083    9.59166893\n",
      "   5.34338545   7.01055309   6.4821324    6.51337605   6.56182879\n",
      "   5.69146386   6.39218717   6.88415402   5.97756381   6.64284626\n",
      "   6.7072439    6.65792008   0.           0.           6.52018879   0.           0.\n",
      "   0.           0.           0.           0.           0.           0.\n",
      "   6.43829915   0.           6.91111014   6.46602067   0.           6.43787286\n",
      "   6.57688122   6.66531938   0.           0.           6.83468576   0.           0.\n",
      "   0.           7.21045968   5.9929692    3.63999382   6.67048188\n",
      "   6.69719019   7.34064316   6.46251514   0.           6.6152956\n",
      "   6.91145799   7.2557127    6.62121308   6.81582721   6.59182024\n",
      "   8.95743116   6.53769207   6.44025865   6.48968146   7.30271762\n",
      "  10.09263779   9.02173796   6.77811686   9.94792588   6.69606323\n",
      "   6.81046711   6.68141197   6.50704566   6.64444334  10.21839275\n",
      "   9.66331085   8.62425709   9.60758375  10.55141192  10.31731805\n",
      "  10.23400577  10.12912556  10.50876167   9.00339843   9.5708292\n",
      "  10.33739201  10.13252406   6.94870611  10.0983776   10.03204347\n",
      "  10.09087591   8.80514888  10.10235558  10.48353008   7.8916638\n",
      "  10.73717504  10.35465139  10.07842257   9.92164078  10.03041765\n",
      "  10.01550582   0.          10.11716547   9.85366464   9.36541746\n",
      "  10.33040667  10.07392086  10.23380214   9.92092719  10.36051718\n",
      "  10.13165159  10.66770161   9.62851828  10.09635193  10.37302002\n",
      "  10.11028708   9.93421863  10.35290889   9.81778507  10.45977417\n",
      "  10.00369499   9.29289357  10.18840055  10.53649106  10.4181179\n",
      "  10.43762558  10.57066351   1.0998632   10.64497803   7.7065835\n",
      "   7.25944919  10.4023209   10.77062921  10.39818376  10.31651067\n",
      "   1.78248543  10.44625794   0.          10.43995236   0.          10.30064736\n",
      "  10.33123777  10.37232473  10.32979517  10.51907974  10.27106002\n",
      "  10.33128194   9.15400928   8.98292487   8.64447636   9.41958546\n",
      "  10.27146354   9.83435142   0.           0.          11.14059298\n",
      "   7.13166467   7.1025401    9.83881322  10.17698013  10.10338516\n",
      "  10.26990115  10.3339771   10.26498021  10.03346275  10.12323062\n",
      "   9.87741599  10.43909849  10.78268969  10.7731346    0.          10.28447423\n",
      "   9.86100958  10.27385603  10.02767954  10.36558972   8.29767267\n",
      "   5.48527384   8.86283696   7.12754611   8.36201966   9.42007225\n",
      "   7.7083333    7.99342157   9.1878027    8.33065996   5.15523911\n",
      "   3.13542107   2.02856729   2.6342109    8.57306767]\n"
     ]
    }
   ],
   "source": [
    "print(D[:,0])"
   ]
  },
  {
   "cell_type": "markdown",
   "metadata": {},
   "source": [
    "Cependant, certaines lignes n'ont pas été remplies. En effet tous les pays ne sont pas renseignés dans la matrice car certains pays n'existent pas ou plus à la date choisie. \n",
    "Par exemple : "
   ]
  },
  {
   "cell_type": "code",
   "execution_count": 11,
   "metadata": {},
   "outputs": [
    {
     "data": {
      "text/plain": [
       "array([ 0.,  0.,  0.,  0.,  0.,  0.,  0.,  0.,  0.,  0.,  0.,  0.,  0.,\n",
       "        0.,  0.,  0.,  0.,  0.,  0.,  0.,  0.,  0.,  0.,  0.,  0.,  0.,\n",
       "        0.,  0.,  0.,  0.,  0.,  0.,  0.,  0.,  0.,  0.,  0.,  0.,  0.,\n",
       "        0.,  0.,  0.,  0.,  0.,  0.,  0.,  0.,  0.,  0.,  0.,  0.,  0.,\n",
       "        0.,  0.,  0.,  0.,  0.,  0.,  0.,  0.,  0.,  0.,  0.,  0.,  0.,\n",
       "        0.,  0.,  0.,  0.,  0.,  0.,  0.,  0.,  0.,  0.,  0.,  0.,  0.,\n",
       "        0.,  0.,  0.,  0.,  0.,  0.,  0.,  0.,  0.,  0.,  0.,  0.,  0.,\n",
       "        0.,  0.,  0.,  0.,  0.,  0.,  0.,  0.,  0.,  0.,  0.,  0.,  0.,\n",
       "        0.,  0.,  0.,  0.,  0.,  0.,  0.,  0.,  0.,  0.,  0.,  0.,  0.,\n",
       "        0.,  0.,  0.,  0.,  0.,  0.,  0.,  0.,  0.,  0.,  0.,  0.,  0.,\n",
       "        0.,  0.,  0.,  0.,  0.,  0.,  0.,  0.,  0.,  0.,  0.,  0.,  0.,\n",
       "        0.,  0.,  0.,  0.,  0.,  0.,  0.,  0.,  0.,  0.,  0.,  0.,  0.,\n",
       "        0.,  0.,  0.,  0.,  0.,  0.,  0.,  0.,  0.,  0.,  0.,  0.,  0.,\n",
       "        0.,  0.,  0.,  0.,  0.,  0.,  0.,  0.,  0.,  0.,  0.,  0.,  0.,\n",
       "        0.,  0.,  0.,  0.,  0.,  0.,  0.,  0.,  0.,  0.,  0.,  0.,  0.,\n",
       "        0.,  0.,  0.,  0.,  0.,  0.,  0.,  0.,  0.,  0.,  0.,  0.,  0.,\n",
       "        0.,  0.,  0.,  0.,  0.,  0.,  0.,  0.,  0.])"
      ]
     },
     "execution_count": 11,
     "metadata": {},
     "output_type": "execute_result"
    }
   ],
   "source": [
    "D[50,]"
   ]
  },
  {
   "cell_type": "markdown",
   "metadata": {},
   "source": [
    "On doit retirer ces pays de la matrice de dissemblance, ce sont les pays dont les lignes ou colonnes ont une somme égale à 0 "
   ]
  },
  {
   "cell_type": "markdown",
   "metadata": {},
   "source": [
    "### Question 3.\n",
    "Calculez la matrice $Dextract$ qui correspond à la matrice de dissemblance $D$ dont on a enlevé les lignes ou colonnes qui ont une somme égale à 0."
   ]
  },
  {
   "cell_type": "code",
   "execution_count": 12,
   "metadata": {},
   "outputs": [
    {
     "name": "stdout",
     "output_type": "stream",
     "text": [
      "[  0   1   2   3   4   5   6   7   8   9  10  11  12  13  14  15  16  17\n",
      "  18  19  20  21  22  23  24  25  26  27  28  29  30  31  32  33  34  35\n",
      "  36  37  38  39  40  41  42  43  44  45  46  49  58  60  61  63  64  65\n",
      "  68  72  73  74  75  76  77  78  80  81  82  83  84  85  86  87  88  89\n",
      "  90  91  92  93  94  95  96  97  98  99 100 101 102 103 104 105 106 107\n",
      " 108 109 110 111 112 113 114 115 116 117 118 119 120 121 122 123 124 125\n",
      " 126 128 129 130 131 132 133 134 135 136 137 138 139 140 141 142 143 144\n",
      " 145 146 147 148 149 150 151 152 153 154 155 156 157 158 159 160 161 162\n",
      " 164 166 167 168 169 170 171 172 173 174 175 176 177 178 181 182 183 184\n",
      " 185 186 187 188 189 190 191 192 193 194 195 197 198 199 200 201 202 203\n",
      " 204 205 206 207 208 209 210 211 212 213 214 215]\n"
     ]
    }
   ],
   "source": [
    "I = np.array([ i for i in range(maxCodeTP) if D.sum(1)[i] != 0])\n",
    "print(I)"
   ]
  },
  {
   "cell_type": "code",
   "execution_count": 13,
   "metadata": {
    "collapsed": true
   },
   "outputs": [],
   "source": [
    "Dextract = D[I,:][:,I]  #  rq : D[I,I] ne fonctionne pas"
   ]
  },
  {
   "cell_type": "markdown",
   "metadata": {},
   "source": [
    "## Clustering hierarchique avec la librairie Scipy"
   ]
  },
  {
   "cell_type": "markdown",
   "metadata": {},
   "source": [
    "Le module cluster de la librairie Scipy contient de nombreuses fonctions permettant de mettre en oeuvre les méthodes de classification non supervisée. Nous allons utiliser la fonction hierarchy de ce module, qui offre notamment la possibilité de tracer le dendrogramme, voir http://docs.scipy.org/doc/scipy/reference/cluster.hierarchy.html#module-scipy.cluster.hierarchy.\n",
    "\n",
    "La première étape pour effectuer une classification hierarchique en utilisant consiste à calculer la matrice de distance. Classiquement cette étape est effectuée par la fonction pdist de scipy : http://docs.scipy.org/doc/scipy-0.14.0/reference/generated/scipy.spatial.distance.pdist.html Cette fonction renvoie une matrice sous forme condensée (en effet la matrice de distance étant symétrique, il n'est pas nécessaire de stocker tous ses coefficients). La seconde étape consiste à appliquer la fonction linkage à la matrice de distance condensée http://docs.scipy.org/doc/scipy-0.16.0/reference/generated/scipy.cluster.hierarchy.linkage.html\n",
    "\n",
    "Dans le cas présent, nous utiliserons la matrice de dissemblance calculée auparavant. Pour pouvoir lui appliquer la fonction linkage, il nous faut préalablement convertir la matrice de dissemblance sous une \"forme condensée\" :\n"
   ]
  },
  {
   "cell_type": "code",
   "execution_count": 14,
   "metadata": {
    "collapsed": true
   },
   "outputs": [],
   "source": [
    "import scipy.spatial.distance as ssd # module scipy pour manipuler des distances \n",
    "distArray = ssd.squareform(Dextract)"
   ]
  },
  {
   "cell_type": "markdown",
   "metadata": {},
   "source": [
    "### Question 4.\n",
    "Appliquez la fonction <code>linkage</code> du module <code>cluster.hierarchy</code> pour produire un clustering dont vous représenterez le dendrogramme: \n",
    "- avec la méthode de plus courte distance (single linkage)\n",
    "- avec la méthode de Ward (ward linkage)"
   ]
  },
  {
   "cell_type": "code",
   "execution_count": 15,
   "metadata": {
    "collapsed": true
   },
   "outputs": [],
   "source": [
    "from scipy.cluster.hierarchy import linkage\n",
    "from scipy.cluster.hierarchy import dendrogram"
   ]
  },
  {
   "cell_type": "code",
   "execution_count": 16,
   "metadata": {
    "scrolled": true
   },
   "outputs": [
    {
     "data": {
      "image/png": "[encoded data removed]",
      "text/plain": [
       "<matplotlib.figure.Figure at 0xaaaa358>"
      ]
     },
     "metadata": {},
     "output_type": "display_data"
    }
   ],
   "source": [
    "linkAverage = linkage(distArray,method='single')\n",
    "dendrogram(linkAverage);"
   ]
  },
  {
   "cell_type": "code",
   "execution_count": 17,
   "metadata": {
    "scrolled": true
   },
   "outputs": [
    {
     "data": {
      "image/png": "[encoded data removed]",
      "text/plain": [
       "<matplotlib.figure.Figure at 0x14b6c898>"
      ]
     },
     "metadata": {},
     "output_type": "display_data"
    }
   ],
   "source": [
    "linkAverage = linkage(distArray,method='ward')\n",
    "dendrogram(linkAverage);"
   ]
  },
  {
   "cell_type": "markdown",
   "metadata": {},
   "source": [
    "Lorsqu'on ne connait pas le nombre de classes qu'il pourrait y avoir dans les données, on peut essayer de le \"deviner\" à partir du dendrogram. Pour cela, il existe plusieurs méthodes, l'une d'entre elle consiste à garder les classes à l'étape $i$ qui maximise la valeur $|h_{i+1} - h_i |$ où $h_i$ est la dissemblance entre les deux classes que l'on a fusionné à l'étape $i$. Sur un dendrogram, les $h_i$ correspondent aux plateaux et comme les $h_i$ sont croissant par rapport à $i$, la technique précedente revient à couper le graphique là où le saut entre deux plateaux consécutifs est le plus grand.\n",
    "\n",
    "### Question 5.\n",
    "Déterminez avec la méthode décrite précédemment combien de classes devrait-on garder pour le dendrogram réalisé avec la méthode de Ward. Utilisez la fonction <code>fcluster</code> du module <code>cluster.hierarchy</code> pour retrouver les classes. Pour chaque classe, affichez les noms des pays y appartenant (Attention, lors du calcul de la matrice de dissemblance nous avons enlever des pays qui n'avaient pas voté durant la période étudiée, il faudra penser à les enlever ici aussi). "
   ]
  },
  {
   "cell_type": "code",
   "execution_count": 18,
   "metadata": {},
   "outputs": [
    {
     "data": {
      "text/plain": [
       "array([2, 2, 1, 1, 1, 1, 1, 1, 1, 1, 1, 1, 1, 1, 1, 1, 1, 1, 1, 1, 1, 1, 1,\n",
       "       1, 1, 1, 1, 1, 1, 1, 1, 1, 1, 1, 1, 2, 2, 2, 2, 2, 2, 2, 2, 2, 2, 2,\n",
       "       2, 2, 2, 2, 2, 2, 2, 2, 2, 2, 2, 2, 2, 2, 2, 2, 2, 2, 2, 2, 2, 2, 1,\n",
       "       2, 2, 2, 2, 1, 1, 2, 1, 2, 2, 2, 2, 2, 1, 1, 1, 1, 1, 1, 1, 1, 1, 1,\n",
       "       1, 1, 1, 1, 1, 1, 1, 1, 1, 1, 1, 1, 1, 1, 1, 1, 1, 1, 1, 1, 1, 1, 1,\n",
       "       1, 1, 1, 1, 1, 1, 1, 1, 1, 1, 1, 1, 1, 1, 1, 1, 1, 1, 1, 1, 1, 2, 1,\n",
       "       1, 1, 1, 1, 2, 1, 1, 1, 1, 1, 1, 1, 1, 1, 1, 1, 1, 1, 1, 1, 1, 2, 2,\n",
       "       1, 1, 1, 1, 1, 1, 1, 1, 1, 1, 1, 1, 1, 1, 1, 1, 1, 1, 2, 1, 2, 1, 1,\n",
       "       1, 1, 1, 1, 1, 2, 2, 2])"
      ]
     },
     "execution_count": 18,
     "metadata": {},
     "output_type": "execute_result"
    }
   ],
   "source": [
    "from scipy.cluster.hierarchy import fcluster\n",
    "\n",
    "linkAverage = linkage(distArray,method='ward')\n",
    "clusters = fcluster(linkAverage,20.,criterion='distance')\n",
    "clusters"
   ]
  },
  {
   "cell_type": "code",
   "execution_count": 19,
   "metadata": {},
   "outputs": [
    {
     "data": {
      "text/plain": [
       "2                             Bahamas\n",
       "3                                Cuba\n",
       "4                               Haiti\n",
       "5                  Dominican Republic\n",
       "6                             Jamaica\n",
       "7                 Trinidad and Tobago\n",
       "8                            Barbados\n",
       "9                            Dominica\n",
       "10                            Grenada\n",
       "11                          St. Lucia\n",
       "12     St. Vincent and the Grenadines\n",
       "13                  Antigua & Barbuda\n",
       "14                St. Kitts and Nevis\n",
       "15                             Mexico\n",
       "16                             Belize\n",
       "17                          Guatemala\n",
       "18                           Honduras\n",
       "19                        El Salvador\n",
       "20                          Nicaragua\n",
       "21                         Costa Rica\n",
       "22                             Panama\n",
       "23                           Colombia\n",
       "24                          Venezuela\n",
       "25                             Guyana\n",
       "26                           Suriname\n",
       "27                            Ecuador\n",
       "28                               Peru\n",
       "29                             Brazil\n",
       "30                            Bolivia\n",
       "31                           Paraguay\n",
       "                    ...              \n",
       "176                        Kazakhstan\n",
       "177                             China\n",
       "178                          Mongolia\n",
       "181                       North Korea\n",
       "184                             India\n",
       "185                            Bhutan\n",
       "186                          Pakistan\n",
       "187                        Bangladesh\n",
       "188                           Myanmar\n",
       "189                         Sri Lanka\n",
       "190                          Maldives\n",
       "191                             Nepal\n",
       "192                          Thailand\n",
       "193                          Cambodia\n",
       "194                              Laos\n",
       "195                           Vietnam\n",
       "197                          Malaysia\n",
       "198                         Singapore\n",
       "199                            Brunei\n",
       "200                       Philippines\n",
       "201                         Indonesia\n",
       "202                        East Timor\n",
       "204                  Papua New Guinea\n",
       "206                           Vanuatu\n",
       "207                   Solomon Islands\n",
       "208                          Kiribati\n",
       "209                            Tuvalu\n",
       "210                              Fiji\n",
       "211                             Tonga\n",
       "212                             Nauru\n",
       "Name: StateNme, Length: 138, dtype: object"
      ]
     },
     "execution_count": 19,
     "metadata": {},
     "output_type": "execute_result"
    }
   ],
   "source": [
    "ListCountry['StateNme'][I][(clusters==1)]"
   ]
  },
  {
   "cell_type": "code",
   "execution_count": 20,
   "metadata": {},
   "outputs": [
    {
     "data": {
      "text/plain": [
       "0            United States of America\n",
       "1                              Canada\n",
       "35                     United Kingdom\n",
       "36                            Ireland\n",
       "37                        Netherlands\n",
       "38                            Belgium\n",
       "39                         Luxembourg\n",
       "40                             France\n",
       "41                             Monaco\n",
       "42                      Liechtenstein\n",
       "43                        Switzerland\n",
       "44                              Spain\n",
       "45                            Andorra\n",
       "46                           Portugal\n",
       "49                            Germany\n",
       "58                             Poland\n",
       "60                            Austria\n",
       "61                            Hungary\n",
       "63                     Czech Republic\n",
       "64                           Slovakia\n",
       "65                              Italy\n",
       "68                         San Marino\n",
       "72                              Malta\n",
       "73                            Albania\n",
       "74                         Montenegro\n",
       "75                          Macedonia\n",
       "76                            Croatia\n",
       "77                         Yugoslavia\n",
       "78             Bosnia and Herzegovina\n",
       "80                           Slovenia\n",
       "81                             Greece\n",
       "82                             Cyprus\n",
       "83                           Bulgaria\n",
       "84                            Moldova\n",
       "85                            Romania\n",
       "87                            Estonia\n",
       "88                             Latvia\n",
       "89                          Lithuania\n",
       "90                            Ukraine\n",
       "93                            Georgia\n",
       "95                            Finland\n",
       "96                             Sweden\n",
       "97                             Norway\n",
       "98                            Denmark\n",
       "99                            Iceland\n",
       "155                            Turkey\n",
       "161                            Israel\n",
       "182                       South Korea\n",
       "183                             Japan\n",
       "203                         Australia\n",
       "205                       New Zealand\n",
       "213                  Marshall Islands\n",
       "214                             Palau\n",
       "215    Federated States of Micronesia\n",
       "Name: StateNme, dtype: object"
      ]
     },
     "execution_count": 20,
     "metadata": {},
     "output_type": "execute_result"
    }
   ],
   "source": [
    "ListCountry['StateNme'][I][(clusters==2)]"
   ]
  },
  {
   "cell_type": "markdown",
   "metadata": {},
   "source": [
    "### Question 6.\n",
    "Affichez un diagramme en bâtons avec un bâton qui représente le nombre de pays ayant rejoint l'OPEP (par classes)  et avec un bâton qui représente le nombre de pays ayant rejoint l'UE (par classes). Que remarquez-vous ?"
   ]
  },
  {
   "cell_type": "code",
   "execution_count": 21,
   "metadata": {},
   "outputs": [
    {
     "data": {
      "text/plain": [
       "<matplotlib.legend.Legend at 0x13ad5f60>"
      ]
     },
     "execution_count": 21,
     "metadata": {},
     "output_type": "execute_result"
    },
    {
     "data": {
      "image/png": "[encoded data removed]",
      "text/plain": [
       "<matplotlib.figure.Figure at 0x10cccda0>"
      ]
     },
     "metadata": {},
     "output_type": "display_data"
    }
   ],
   "source": [
    "ind = np.arange(2) # les coordonnées des abscisses x des bâtons\n",
    "width = 0.35       # largeur des bâtons \n",
    "\n",
    "cluster_1 = [np.sum((ListCountry['OPEP'][I]>0.)&(clusters==1)),np.sum((ListCountry['UE'][I]>0.)&(clusters==1))]\n",
    "cluster_2 = [np.sum((ListCountry['OPEP'][I]>0.)&(clusters==2)),np.sum((ListCountry['UE'][I]>0.)&(clusters==2))]\n",
    "\n",
    "plt.figure(1)\n",
    "p1 = plt.bar(ind, cluster_1, width, color='r')\n",
    "p2 = plt.bar(ind, cluster_2, width, color='b', bottom=cluster_1)\n",
    "\n",
    "plt.title('Nombres de pays ayant rejoint l'\"'OPEP/l'\"'UE par cluster')\n",
    "plt.xticks(ind + width/2., ('OPEP', 'UE'))\n",
    "plt.legend((p1[0], p2[0]), ('Cluster 1', 'Cluster 2'),loc=0)"
   ]
  },
  {
   "cell_type": "markdown",
   "metadata": {},
   "source": [
    "On remarque que le cluster 1 contient tous les pays ayant rejoint l'OPEP et le cluster 2 contient tous les pays ayant rejoint l'UE. Donc la classification semble cohérente dans le sens où il semble cohérent que les pays de l'OPEP votent de la même manière, que les pays de l'UE votent de la même manière mais qu'il y ai une dissemblance entre des pays de l'OPEP et des pays de l'UE."
   ]
  }
 ],
 "metadata": {
  "kernelspec": {
   "display_name": "Python 2",
   "language": "python",
   "name": "python2"
  },
  "language_info": {
   "codemirror_mode": {
    "name": "ipython",
    "version": 2
   },
   "file_extension": ".py",
   "mimetype": "text/x-python",
   "name": "python",
   "nbconvert_exporter": "python",
   "pygments_lexer": "ipython2",
   "version": "2.7.14"
  }
 },
 "nbformat": 4,
 "nbformat_minor": 1
}
