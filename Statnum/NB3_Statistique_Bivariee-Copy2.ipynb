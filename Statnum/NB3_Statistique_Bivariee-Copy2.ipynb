{
 "cells": [
  {
   "cell_type": "code",
   "execution_count": 1,
   "metadata": {},
   "outputs": [],
   "source": [
    "%matplotlib nbagg\n",
    "\n",
    "import matplotlib\n",
    "import pandas as pd\n",
    "import numpy as np\n",
    "import matplotlib.pyplot as plt\n",
    "import matplotlib.pyplot as plt\n",
    "from IPython.display import display, Math, Latex\n",
    "\n",
    "# from sklearn.datasets import load_wine\n",
    "# vins = load_wine()\n",
    "# Data = pd.DataFrame(vins['data'],columns=vins['feature_names'])\n",
    "# Data['class'] = vins['target']\n",
    "\n",
    "Data = pd.read_csv('vins.csv')\n"
   ]
  },
  {
   "cell_type": "markdown",
   "metadata": {},
   "source": [
    "Le jeu de donnée est le résulat d'une analyse chimique de vins produit par 3 cultivateurs. Chaque ligne représente un vin testé où la variable **class** donne numéro du cultivateur qui la produit et les autres variables donnent le résultat de l'analyse chimique de ce vin.\n",
    "\n",
    "Si vous avez importé les données avec le module sklearn, vous pouvez avoir une description (en anglais) du jeu de donnée en utilisant le code suivant:"
   ]
  },
  {
   "cell_type": "code",
   "execution_count": 2,
   "metadata": {},
   "outputs": [
    {
     "ename": "NameError",
     "evalue": "name 'vins' is not defined",
     "traceback": [
      "\u001b[1;31m---------------------------------------------------------------------------\u001b[0m",
      "\u001b[1;31mNameError\u001b[0m                                 Traceback (most recent call last)",
      "\u001b[1;32m<ipython-input-2-0a1f39870547>\u001b[0m in \u001b[0;36m<module>\u001b[1;34m()\u001b[0m\n\u001b[1;32m----> 1\u001b[1;33m \u001b[1;32mprint\u001b[0m\u001b[1;33m(\u001b[0m\u001b[0mvins\u001b[0m\u001b[1;33m[\u001b[0m\u001b[1;34m'DESCR'\u001b[0m\u001b[1;33m]\u001b[0m\u001b[1;33m)\u001b[0m\u001b[1;33m\u001b[0m\u001b[0m\n\u001b[0m",
      "\u001b[1;31mNameError\u001b[0m: name 'vins' is not defined"
     ],
     "output_type": "error"
    }
   ],
   "source": [
    "print(vins['DESCR'])"
   ]
  },
  {
   "cell_type": "markdown",
   "metadata": {},
   "source": [
    "(1). Importez les données sous forme d'un dataframe. Familiarisez-vous avec le tableau des données : Vérifiez la taille du tableau, regardez le type des différentes variables etc."
   ]
  },
  {
   "cell_type": "code",
   "execution_count": 3,
   "metadata": {},
   "outputs": [
    {
     "data": {
      "text/plain": [
       "(178, 14)"
      ]
     },
     "execution_count": 3,
     "metadata": {},
     "output_type": "execute_result"
    }
   ],
   "source": [
    "Data.shape"
   ]
  },
  {
   "cell_type": "code",
   "execution_count": 4,
   "metadata": {},
   "outputs": [
    {
     "data": {
      "text/plain": [
       "alcohol                         float64\n",
       "malic_acid                      float64\n",
       "ash                             float64\n",
       "alcalinity_of_ash               float64\n",
       "magnesium                       float64\n",
       "total_phenols                   float64\n",
       "flavanoids                      float64\n",
       "nonflavanoid_phenols            float64\n",
       "proanthocyanins                 float64\n",
       "color_intensity                 float64\n",
       "hue                             float64\n",
       "od280/od315_of_diluted_wines    float64\n",
       "proline                         float64\n",
       "class                             int64\n",
       "dtype: object"
      ]
     },
     "execution_count": 4,
     "metadata": {},
     "output_type": "execute_result"
    }
   ],
   "source": [
    "Data.dtypes"
   ]
  },
  {
   "cell_type": "code",
   "execution_count": 5,
   "metadata": {},
   "outputs": [
    {
     "data": {
      "text/plain": [
       "RangeIndex(start=0, stop=178, step=1)"
      ]
     },
     "execution_count": 5,
     "metadata": {},
     "output_type": "execute_result"
    }
   ],
   "source": [
    "Data.index"
   ]
  },
  {
   "cell_type": "code",
   "execution_count": 6,
   "metadata": {},
   "outputs": [
    {
     "name": "stdout",
     "output_type": "stream",
     "text": [
      "<class 'pandas.core.frame.DataFrame'>\n",
      "RangeIndex: 178 entries, 0 to 177\n",
      "Data columns (total 14 columns):\n",
      "alcohol                         178 non-null float64\n",
      "malic_acid                      178 non-null float64\n",
      "ash                             178 non-null float64\n",
      "alcalinity_of_ash               178 non-null float64\n",
      "magnesium                       178 non-null float64\n",
      "total_phenols                   178 non-null float64\n",
      "flavanoids                      178 non-null float64\n",
      "nonflavanoid_phenols            178 non-null float64\n",
      "proanthocyanins                 178 non-null float64\n",
      "color_intensity                 178 non-null float64\n",
      "hue                             178 non-null float64\n",
      "od280/od315_of_diluted_wines    178 non-null float64\n",
      "proline                         178 non-null float64\n",
      "class                           178 non-null int64\n",
      "dtypes: float64(13), int64(1)\n",
      "memory usage: 19.5 KB\n"
     ]
    }
   ],
   "source": [
    "Data.info()"
   ]
  },
  {
   "cell_type": "code",
   "execution_count": 7,
   "metadata": {},
   "outputs": [
    {
     "data": {
      "text/html": [
       "<div>\n",
       "<style>\n",
       "    .dataframe thead tr:only-child th {\n",
       "        text-align: right;\n",
       "    }\n",
       "\n",
       "    .dataframe thead th {\n",
       "        text-align: left;\n",
       "    }\n",
       "\n",
       "    .dataframe tbody tr th {\n",
       "        vertical-align: top;\n",
       "    }\n",
       "</style>\n",
       "<table border=\"1\" class=\"dataframe\">\n",
       "  <thead>\n",
       "    <tr style=\"text-align: right;\">\n",
       "      <th></th>\n",
       "      <th>alcohol</th>\n",
       "      <th>malic_acid</th>\n",
       "      <th>ash</th>\n",
       "      <th>alcalinity_of_ash</th>\n",
       "      <th>magnesium</th>\n",
       "      <th>total_phenols</th>\n",
       "      <th>flavanoids</th>\n",
       "      <th>nonflavanoid_phenols</th>\n",
       "      <th>proanthocyanins</th>\n",
       "      <th>color_intensity</th>\n",
       "      <th>hue</th>\n",
       "      <th>od280/od315_of_diluted_wines</th>\n",
       "      <th>proline</th>\n",
       "      <th>class</th>\n",
       "    </tr>\n",
       "  </thead>\n",
       "  <tbody>\n",
       "    <tr>\n",
       "      <th>count</th>\n",
       "      <td>178.000000</td>\n",
       "      <td>178.000000</td>\n",
       "      <td>178.000000</td>\n",
       "      <td>178.000000</td>\n",
       "      <td>178.000000</td>\n",
       "      <td>178.000000</td>\n",
       "      <td>178.000000</td>\n",
       "      <td>178.000000</td>\n",
       "      <td>178.000000</td>\n",
       "      <td>178.000000</td>\n",
       "      <td>178.000000</td>\n",
       "      <td>178.000000</td>\n",
       "      <td>178.000000</td>\n",
       "      <td>178.000000</td>\n",
       "    </tr>\n",
       "    <tr>\n",
       "      <th>mean</th>\n",
       "      <td>13.000618</td>\n",
       "      <td>2.336348</td>\n",
       "      <td>2.366517</td>\n",
       "      <td>19.494944</td>\n",
       "      <td>99.741573</td>\n",
       "      <td>2.295112</td>\n",
       "      <td>2.029270</td>\n",
       "      <td>0.361854</td>\n",
       "      <td>1.590899</td>\n",
       "      <td>5.058090</td>\n",
       "      <td>0.957449</td>\n",
       "      <td>2.611685</td>\n",
       "      <td>746.893258</td>\n",
       "      <td>0.938202</td>\n",
       "    </tr>\n",
       "    <tr>\n",
       "      <th>std</th>\n",
       "      <td>0.811827</td>\n",
       "      <td>1.117146</td>\n",
       "      <td>0.274344</td>\n",
       "      <td>3.339564</td>\n",
       "      <td>14.282484</td>\n",
       "      <td>0.625851</td>\n",
       "      <td>0.998859</td>\n",
       "      <td>0.124453</td>\n",
       "      <td>0.572359</td>\n",
       "      <td>2.318286</td>\n",
       "      <td>0.228572</td>\n",
       "      <td>0.709990</td>\n",
       "      <td>314.907474</td>\n",
       "      <td>0.775035</td>\n",
       "    </tr>\n",
       "    <tr>\n",
       "      <th>min</th>\n",
       "      <td>11.030000</td>\n",
       "      <td>0.740000</td>\n",
       "      <td>1.360000</td>\n",
       "      <td>10.600000</td>\n",
       "      <td>70.000000</td>\n",
       "      <td>0.980000</td>\n",
       "      <td>0.340000</td>\n",
       "      <td>0.130000</td>\n",
       "      <td>0.410000</td>\n",
       "      <td>1.280000</td>\n",
       "      <td>0.480000</td>\n",
       "      <td>1.270000</td>\n",
       "      <td>278.000000</td>\n",
       "      <td>0.000000</td>\n",
       "    </tr>\n",
       "    <tr>\n",
       "      <th>25%</th>\n",
       "      <td>12.362500</td>\n",
       "      <td>1.602500</td>\n",
       "      <td>2.210000</td>\n",
       "      <td>17.200000</td>\n",
       "      <td>88.000000</td>\n",
       "      <td>1.742500</td>\n",
       "      <td>1.205000</td>\n",
       "      <td>0.270000</td>\n",
       "      <td>1.250000</td>\n",
       "      <td>3.220000</td>\n",
       "      <td>0.782500</td>\n",
       "      <td>1.937500</td>\n",
       "      <td>500.500000</td>\n",
       "      <td>0.000000</td>\n",
       "    </tr>\n",
       "    <tr>\n",
       "      <th>50%</th>\n",
       "      <td>13.050000</td>\n",
       "      <td>1.865000</td>\n",
       "      <td>2.360000</td>\n",
       "      <td>19.500000</td>\n",
       "      <td>98.000000</td>\n",
       "      <td>2.355000</td>\n",
       "      <td>2.135000</td>\n",
       "      <td>0.340000</td>\n",
       "      <td>1.555000</td>\n",
       "      <td>4.690000</td>\n",
       "      <td>0.965000</td>\n",
       "      <td>2.780000</td>\n",
       "      <td>673.500000</td>\n",
       "      <td>1.000000</td>\n",
       "    </tr>\n",
       "    <tr>\n",
       "      <th>75%</th>\n",
       "      <td>13.677500</td>\n",
       "      <td>3.082500</td>\n",
       "      <td>2.557500</td>\n",
       "      <td>21.500000</td>\n",
       "      <td>107.000000</td>\n",
       "      <td>2.800000</td>\n",
       "      <td>2.875000</td>\n",
       "      <td>0.437500</td>\n",
       "      <td>1.950000</td>\n",
       "      <td>6.200000</td>\n",
       "      <td>1.120000</td>\n",
       "      <td>3.170000</td>\n",
       "      <td>985.000000</td>\n",
       "      <td>2.000000</td>\n",
       "    </tr>\n",
       "    <tr>\n",
       "      <th>max</th>\n",
       "      <td>14.830000</td>\n",
       "      <td>5.800000</td>\n",
       "      <td>3.230000</td>\n",
       "      <td>30.000000</td>\n",
       "      <td>162.000000</td>\n",
       "      <td>3.880000</td>\n",
       "      <td>5.080000</td>\n",
       "      <td>0.660000</td>\n",
       "      <td>3.580000</td>\n",
       "      <td>13.000000</td>\n",
       "      <td>1.710000</td>\n",
       "      <td>4.000000</td>\n",
       "      <td>1680.000000</td>\n",
       "      <td>2.000000</td>\n",
       "    </tr>\n",
       "  </tbody>\n",
       "</table>\n",
       "</div>"
      ],
      "text/plain": [
       "          alcohol  malic_acid         ash  alcalinity_of_ash   magnesium  \\\n",
       "count  178.000000  178.000000  178.000000         178.000000  178.000000   \n",
       "mean    13.000618    2.336348    2.366517          19.494944   99.741573   \n",
       "std      0.811827    1.117146    0.274344           3.339564   14.282484   \n",
       "min     11.030000    0.740000    1.360000          10.600000   70.000000   \n",
       "25%     12.362500    1.602500    2.210000          17.200000   88.000000   \n",
       "50%     13.050000    1.865000    2.360000          19.500000   98.000000   \n",
       "75%     13.677500    3.082500    2.557500          21.500000  107.000000   \n",
       "max     14.830000    5.800000    3.230000          30.000000  162.000000   \n",
       "\n",
       "       total_phenols  flavanoids  nonflavanoid_phenols  proanthocyanins  \\\n",
       "count     178.000000  178.000000            178.000000       178.000000   \n",
       "mean        2.295112    2.029270              0.361854         1.590899   \n",
       "std         0.625851    0.998859              0.124453         0.572359   \n",
       "min         0.980000    0.340000              0.130000         0.410000   \n",
       "25%         1.742500    1.205000              0.270000         1.250000   \n",
       "50%         2.355000    2.135000              0.340000         1.555000   \n",
       "75%         2.800000    2.875000              0.437500         1.950000   \n",
       "max         3.880000    5.080000              0.660000         3.580000   \n",
       "\n",
       "       color_intensity         hue  od280/od315_of_diluted_wines      proline  \\\n",
       "count       178.000000  178.000000                    178.000000   178.000000   \n",
       "mean          5.058090    0.957449                      2.611685   746.893258   \n",
       "std           2.318286    0.228572                      0.709990   314.907474   \n",
       "min           1.280000    0.480000                      1.270000   278.000000   \n",
       "25%           3.220000    0.782500                      1.937500   500.500000   \n",
       "50%           4.690000    0.965000                      2.780000   673.500000   \n",
       "75%           6.200000    1.120000                      3.170000   985.000000   \n",
       "max          13.000000    1.710000                      4.000000  1680.000000   \n",
       "\n",
       "            class  \n",
       "count  178.000000  \n",
       "mean     0.938202  \n",
       "std      0.775035  \n",
       "min      0.000000  \n",
       "25%      0.000000  \n",
       "50%      1.000000  \n",
       "75%      2.000000  \n",
       "max      2.000000  "
      ]
     },
     "execution_count": 7,
     "metadata": {},
     "output_type": "execute_result"
    }
   ],
   "source": [
    "Data.describe()"
   ]
  },
  {
   "cell_type": "markdown",
   "metadata": {},
   "source": [
    " ##### Distribution marginale\n",
    " ---\n",
    "\n",
    "(2). Calculez les statistiques d'ordre de la variable **flavanoids**. "
   ]
  },
  {
   "cell_type": "code",
   "execution_count": 8,
   "metadata": {
    "scrolled": true
   },
   "outputs": [
    {
     "data": {
      "text/plain": [
       "array([ 0.47  ,  0.4854,  0.5   ,  0.5108,  0.5455,  0.5662,  0.58  ,\n",
       "        0.5832,  0.6   ,  0.607 ,  0.6394,  0.66  ,  0.68  ,  0.6878,\n",
       "        0.7   ,  0.7532,  0.7618,  0.7972,  0.83  ,  0.872 ,  0.9268,\n",
       "        0.9882,  1.0697,  1.0948,  1.205 ,  1.25  ,  1.25  ,  1.28  ,\n",
       "        1.3033,  1.324 ,  1.36  ,  1.4028,  1.4764,  1.57  ,  1.5795,\n",
       "        1.59  ,  1.6049,  1.64  ,  1.69  ,  1.738 ,  1.7557,  1.807 ,\n",
       "        1.8411,  1.9116,  1.979 ,  2.0184,  2.03  ,  2.0396,  2.1046,\n",
       "        2.135 ,  2.17  ,  2.1908,  2.2343,  2.2558,  2.2635,  2.2724,\n",
       "        2.3256,  2.3964,  2.43  ,  2.46  ,  2.5097,  2.5274,  2.5402,\n",
       "        2.5884,  2.6305,  2.6482,  2.65  ,  2.6608,  2.68  ,  2.689 ,\n",
       "        2.7235,  2.76  ,  2.7821,  2.79  ,  2.875 ,  2.8952,  2.9129,\n",
       "        2.9212,  2.9649,  2.98  ,  2.99  ,  3.    ,  3.0273,  3.0368,\n",
       "        3.078 ,  3.1422,  3.15  ,  3.17  ,  3.1853,  3.233 ,  3.2514,\n",
       "        3.2868,  3.3627,  3.3938,  3.4975,  3.5584,  3.6607,  3.713 ,\n",
       "        3.7914,  5.08  ])"
      ]
     },
     "execution_count": 8,
     "metadata": {},
     "output_type": "execute_result"
    }
   ],
   "source": [
    "Data.sort_values(by='flavanoids')['flavanoids']\n",
    "flavanoids_serie = Data['flavanoids']\n",
    "np.percentile(flavanoids_serie, q=range(1,100+1))\n",
    "# flavanoids_serie.count()==flavanoids_serie.size\n"
   ]
  },
  {
   "cell_type": "markdown",
   "metadata": {},
   "source": [
    "(3). En déduire les quartiles de cette variable. Quelle statistique de dispersion pouvez-vous calculer à partir de vos résultats précédents ? Calculez cette statistique.\n",
    "\n",
    "Voici les quartiles:"
   ]
  },
  {
   "cell_type": "code",
   "execution_count": 9,
   "metadata": {},
   "outputs": [
    {
     "data": {
      "text/latex": [
       "$$q_{25}=1.205$$"
      ],
      "text/plain": [
       "<IPython.core.display.Math object>"
      ]
     },
     "execution_count": 9,
     "metadata": {},
     "output_type": "execute_result"
    }
   ],
   "source": [
    "q25 = np.percentile(flavanoids_serie,25)\n",
    "Math('q_{{25}}={}'.format(q25))"
   ]
  },
  {
   "cell_type": "code",
   "execution_count": 10,
   "metadata": {},
   "outputs": [
    {
     "data": {
      "text/latex": [
       "$$q_{75}=2.875$$"
      ],
      "text/plain": [
       "<IPython.core.display.Math object>"
      ]
     },
     "execution_count": 10,
     "metadata": {},
     "output_type": "execute_result"
    }
   ],
   "source": [
    "q75 = np.percentile(flavanoids_serie,75)\n",
    "Math('q_{{75}}={}'.format(q75))"
   ]
  },
  {
   "cell_type": "markdown",
   "metadata": {},
   "source": [
    "Des quartiles, on peut déduire l'écart interquartiles:"
   ]
  },
  {
   "cell_type": "code",
   "execution_count": 11,
   "metadata": {},
   "outputs": [
    {
     "data": {
      "text/latex": [
       "$$\\Delta=q_{75}-q_{25}=1.67$$"
      ],
      "text/plain": [
       "<IPython.core.display.Math object>"
      ]
     },
     "execution_count": 11,
     "metadata": {},
     "output_type": "execute_result"
    }
   ],
   "source": [
    "eiq2575=q75-q25\n",
    "Math('\\Delta=q_{{75}}-q_{{25}}={}'.format(eiq2575))"
   ]
  },
  {
   "cell_type": "markdown",
   "metadata": {},
   "source": [
    "(4). Quelle représentation graphique vous permettrait de répondre à la question 3 ? Affichez ce graphique.\n",
    "\n",
    "La représentation utile ici est le **boxplot**."
   ]
  },
  {
   "cell_type": "code",
   "execution_count": 13,
   "metadata": {},
   "outputs": [
    {
     "data": {
      "text/plain": [
       "<IPython.core.display.Javascript object>"
      ]
     },
     "metadata": {},
     "output_type": "display_data"
    },
    {
     "data": {
      "text/html": [
       "<img src=\"data:image/png;base64,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\" width=\"640\">"
      ],
      "text/plain": [
       "<IPython.core.display.HTML object>"
      ]
     },
     "metadata": {},
     "output_type": "execute_result"
    },
    {
     "data": {
      "text/plain": [
       "<matplotlib.axes._subplots.AxesSubplot at 0xc9cbf98>"
      ]
     },
     "execution_count": 13,
     "metadata": {},
     "output_type": "execute_result"
    }
   ],
   "source": [
    "pd.DataFrame(flavanoids_serie).boxplot()"
   ]
  },
  {
   "cell_type": "markdown",
   "metadata": {},
   "source": [
    "(5). Calculez la distribution (les valeurs et fréquences) de la variable **flavanoids**. Définissez une fonction qui prends en paramètres un entier r, des valeurs et des fréquences et qui renvoie le moment centré d'ordre r. Utilisez cette fonction pour calculer la variance de la variable **flavanoids** à partir de sa distribution."
   ]
  },
  {
   "cell_type": "markdown",
   "metadata": {},
   "source": [
    "Valeurs et fréquences:"
   ]
  },
  {
   "cell_type": "code",
   "execution_count": 14,
   "metadata": {},
   "outputs": [
    {
     "data": {
      "text/plain": [
       "2.65    4\n",
       "0.58    3\n",
       "2.68    3\n",
       "0.60    3\n",
       "1.25    3\n",
       "2.03    3\n",
       "0.92    2\n",
       "0.66    2\n",
       "2.43    2\n",
       "2.98    2\n",
       "0.47    2\n",
       "2.26    2\n",
       "1.69    2\n",
       "2.17    2\n",
       "2.79    2\n",
       "2.76    2\n",
       "2.92    2\n",
       "3.17    2\n",
       "1.36    2\n",
       "3.39    2\n",
       "3.15    2\n",
       "1.59    2\n",
       "1.84    2\n",
       "2.69    2\n",
       "2.99    2\n",
       "3.00    2\n",
       "1.75    2\n",
       "0.68    2\n",
       "1.28    2\n",
       "0.76    2\n",
       "       ..\n",
       "0.34    1\n",
       "0.96    1\n",
       "1.32    1\n",
       "1.20    1\n",
       "3.93    1\n",
       "0.80    1\n",
       "0.61    1\n",
       "3.69    1\n",
       "3.56    1\n",
       "2.97    1\n",
       "2.89    1\n",
       "2.45    1\n",
       "1.92    1\n",
       "0.69    1\n",
       "0.52    1\n",
       "3.64    1\n",
       "5.08    1\n",
       "2.86    1\n",
       "2.91    1\n",
       "1.79    1\n",
       "2.21    1\n",
       "0.84    1\n",
       "3.04    1\n",
       "3.10    1\n",
       "3.40    1\n",
       "2.78    1\n",
       "1.02    1\n",
       "1.30    1\n",
       "2.90    1\n",
       "3.25    1\n",
       "Name: flavanoids, Length: 132, dtype: int64"
      ]
     },
     "execution_count": 14,
     "metadata": {},
     "output_type": "execute_result"
    }
   ],
   "source": [
    "flavanoids_freq = flavanoids_serie.value_counts()\n",
    "flavanoids_freq"
   ]
  },
  {
   "cell_type": "markdown",
   "metadata": {},
   "source": [
    "Fonction qui calcule le moment centré d'ordre r:"
   ]
  },
  {
   "cell_type": "code",
   "execution_count": 15,
   "metadata": {
    "collapsed": true
   },
   "outputs": [],
   "source": [
    "def moment_centre(freq,r=1):\n",
    "    def moment_1(freq):\n",
    "        mean = 0.\n",
    "        nbtot = 0\n",
    "        for value, nb in freq.dropna().iteritems():\n",
    "            mean += np.double(nb) * value\n",
    "            nbtot += nb\n",
    "        return mean / np.double(nbtot)\n",
    "    mean = moment_1(freq)\n",
    "    if r == 1:\n",
    "        return mean\n",
    "    mean = moment_1(freq)\n",
    "    moment_r = 0.\n",
    "    nbtot = 0\n",
    "    for value, nb in freq.dropna().iteritems():\n",
    "        moment_r += np.double(nb)*(value-mean)**r\n",
    "        nbtot += nb\n",
    "    return moment_r/np.double(nbtot)\n"
   ]
  },
  {
   "cell_type": "markdown",
   "metadata": {},
   "source": [
    "Variance:"
   ]
  },
  {
   "cell_type": "code",
   "execution_count": 16,
   "metadata": {},
   "outputs": [
    {
     "data": {
      "text/plain": [
       "0.99211351155157201"
      ]
     },
     "execution_count": 16,
     "metadata": {},
     "output_type": "execute_result"
    }
   ],
   "source": [
    "moment_centre(flavanoids_freq,2)"
   ]
  },
  {
   "cell_type": "markdown",
   "metadata": {},
   "source": [
    " ##### Distribution conditionnelle\n",
    " ---\n",
    "\n",
    "(6). Calculez la moyenne conditionnelle et la variance conditionnelle de la variable **alcohol** sachant que la variable **class** vaut 0, 1 et 2. Interpretez les résultats."
   ]
  },
  {
   "cell_type": "code",
   "execution_count": null,
   "metadata": {
    "collapsed": true
   },
   "outputs": [],
   "source": []
  },
  {
   "cell_type": "markdown",
   "metadata": {},
   "source": [
    "(7). Affichez sur une même figure l'histogramme de la distribution de la variable **alcohol** sachant que la variable **class** vaut 0, 1 et 2 (conseil: utilisez le paramètre **alpha** de la fonction hist pour mieux voir les superpositions). En quoi cette représentation graphique confirme vos précédents résultats ?"
   ]
  },
  {
   "cell_type": "code",
   "execution_count": null,
   "metadata": {
    "collapsed": true
   },
   "outputs": [],
   "source": []
  },
  {
   "cell_type": "markdown",
   "metadata": {},
   "source": [
    "(8). Calculez les fréquences de la variable **alcohol** pour les intervalles (10.,12.5], (12.5,13.5] et (13.5,15.] sachant que la variable **class** vaut 0, 1 et 2. (La notation (a,b] signifie que l'intervalle est ouvert à gauche et fermé à droite)"
   ]
  },
  {
   "cell_type": "code",
   "execution_count": null,
   "metadata": {
    "collapsed": true
   },
   "outputs": [],
   "source": []
  },
  {
   "cell_type": "markdown",
   "metadata": {},
   "source": [
    " ##### Distribution jointe et statistiques de dépendance\n",
    " ---\n",
    "\n",
    "(9). Affichez le nuage de points des variables **flavanoids** et **total_phenols** et le nuage de points des variables **flavanoids** et **nonflavanoid_phenols** sur des figures différentes (mais dans une même fenêtre). Interpretez ces deux graphiques."
   ]
  },
  {
   "cell_type": "code",
   "execution_count": null,
   "metadata": {
    "collapsed": true
   },
   "outputs": [],
   "source": []
  },
  {
   "cell_type": "markdown",
   "metadata": {},
   "source": [
    "(10). Quelle statistique utiliseriez-vous pour justifier votre réponse à la question précédente ? Justifiez votre choix et calculez la valeur de cette statistique pour les deux cas."
   ]
  },
  {
   "cell_type": "code",
   "execution_count": null,
   "metadata": {
    "collapsed": true
   },
   "outputs": [],
   "source": []
  },
  {
   "cell_type": "markdown",
   "metadata": {},
   "source": [
    "(11). À partir des résultats de la question 8, comment feriez-vous pour calculer la distribution jointe des variables **alcohol** et **class** ? (où les valeurs sont 0, 1 et 2 pour la variable class et les intervalles (10.,12.5], (12.5,13.5] et (13.5,15.] pour la variable alcohol) Calculez cette distribution jointe. Faites le produit entre la distribution marginale de la variable **alcohol** et celle de la variable **class**. Qu'est-ce que vous en concluez ?"
   ]
  },
  {
   "cell_type": "code",
   "execution_count": null,
   "metadata": {
    "collapsed": true
   },
   "outputs": [],
   "source": []
  },
  {
   "cell_type": "markdown",
   "metadata": {},
   "source": [
    "(12). Ecrivez une fonction **scatter_matrix** qui trace les nuages de points de toutes les variables du tableau de données passé à la fonction en argument, où les graphiques sont organisés en forme de matrice (c'est à dire que le nuage de points des variables i et j se trouve sur la ième ligne et la jème ligne dans la fenêtre). Appliquez cette fonction à votre tableau de données et comparez votre résultat à la matrice de corrélations."
   ]
  },
  {
   "cell_type": "code",
   "execution_count": null,
   "metadata": {
    "collapsed": true
   },
   "outputs": [],
   "source": []
  },
  {
   "cell_type": "markdown",
   "metadata": {},
   "source": [
    "(13). Imaginez que l'on veuille maintenant prédire la variable **class** en fonction des autres variables. Dans ce cas, quelles variables seraient utiles pour faire cette prédiction ? Justifiez votre choix."
   ]
  },
  {
   "cell_type": "code",
   "execution_count": null,
   "metadata": {
    "collapsed": true
   },
   "outputs": [],
   "source": []
  }
 ],
 "metadata": {
  "kernelspec": {
   "display_name": "Python [default]",
   "language": "python",
   "name": "python2"
  },
  "language_info": {
   "codemirror_mode": {
    "name": "ipython",
    "version": 2
   },
   "file_extension": ".py",
   "mimetype": "text/x-python",
   "name": "python",
   "nbconvert_exporter": "python",
   "pygments_lexer": "ipython2",
   "version": "2.7.13"
  }
 },
 "nbformat": 4,
 "nbformat_minor": 1
}
