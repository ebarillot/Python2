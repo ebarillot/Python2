{
 "cells": [
  {
   "cell_type": "markdown",
   "metadata": {},
   "source": [
    "# Mutabilité\n",
    "\n",
    "En Python, il existe ce qu'on appelle des types **mutables** et des types **immutables**. On peut modifier un objet, avec un type mutable, après sa création tandis qu'avec un objet de type immutable on ne peut pas. Par exemple, voici un type immutable:"
   ]
  },
  {
   "cell_type": "code",
   "execution_count": null,
   "metadata": {},
   "outputs": [],
   "source": [
    "a = 5\n",
    "b = a\n",
    "a = 3\n",
    "print('a: {}, b: {}'.format(a,b))"
   ]
  },
  {
   "cell_type": "markdown",
   "metadata": {},
   "source": [
    "et voila un type mutable:"
   ]
  },
  {
   "cell_type": "code",
   "execution_count": null,
   "metadata": {},
   "outputs": [],
   "source": [
    "l = [1, 2, 3]\n",
    "t = l\n",
    "l[0] = 8\n",
    "print('l: {}, t: {}'.format(l,t))"
   ]
  },
  {
   "cell_type": "markdown",
   "metadata": {},
   "source": [
    "On remarque que dans le premier cas le fait de modifier la variable **a** n'a pas modifié la variable **b** alors que dans le second cas une modification de **l** a engendré une modification de **t**. Ainsi il faut faire attention lorsqu'on veut stocker un objet dans un autre, si le premier est de type mutable cela risque de produire des effets indésirables dans votre programme. Pour copier un objet de type mutable sans que cela crée le problème précédent, il existe plusieurs solutions. Par exemple pour une liste, on peut utiliser le slicing **[:]** ou la fonction **list()**."
   ]
  },
  {
   "cell_type": "code",
   "execution_count": null,
   "metadata": {},
   "outputs": [],
   "source": [
    "liste1 = [-0.4, 8, 15]\n",
    "liste2 = liste1[:]\n",
    "liste3 = list(liste1)\n",
    "\n",
    "liste1[0] = 4\n",
    "print('liste1: {}, liste2: {}, liste3: {}'.format(liste1,liste2,liste3))"
   ]
  },
  {
   "cell_type": "markdown",
   "metadata": {},
   "source": [
    "Les types immutables sont les int, float, boolean, string, etc... Les types mutables sont en général les conteneurs (sauf pour les tuples) et les types créés par d'autres personnes, c'est à dire les listes, les series, les dataframes, etc... D'ailleurs il existe un type de conteneur très utile dont on n'a pas parlé la dernière fois: l'**array** du module numpy qui consiste en un vecteur ou une matrice (selon les dimensions choisies). Vous l'avez déjà rencontré avec les objets Series et Dataframe du module pandas. En effet, ces derniers permettent de créer des index et d'avoir des noms de colonnes mais les données sont stockées dans des **array**."
   ]
  },
  {
   "cell_type": "code",
   "execution_count": null,
   "metadata": {},
   "outputs": [],
   "source": [
    "import pandas as pd\n",
    "\n",
    "S = pd.Series([4,2,9])\n",
    "S.values"
   ]
  },
  {
   "cell_type": "markdown",
   "metadata": {},
   "source": [
    "Remarquez que la sortie est un objet de type array. Pour construire directement un objet de type array, il suffit la fonction **array()** du module numpy avec comme paramètre une liste de données."
   ]
  },
  {
   "cell_type": "code",
   "execution_count": null,
   "metadata": {},
   "outputs": [],
   "source": [
    "import numpy as np\n",
    "\n",
    "M = np.array([[4, 7, 9], [9, 5, 2]])\n",
    "M"
   ]
  },
  {
   "cell_type": "markdown",
   "metadata": {},
   "source": [
    "Ce type de conteneur est très utile pour faire de l'algèbre linéaire ou pour appliquer certaines fonctions (celles définies dans le module numpy) à un ensemble de valeurs de manière efficace."
   ]
  },
  {
   "cell_type": "code",
   "execution_count": null,
   "metadata": {},
   "outputs": [],
   "source": [
    "Mat = np.ones((3,3))\n",
    "Vec = np.zeros(3)\n",
    "Vec[1] = 5\n",
    "print(Vec)\n",
    "print(Mat)\n",
    "\n",
    "res = np.dot(Vec,Mat)\n",
    "print(res)\n",
    "\n",
    "res2 = np.cos(Vec)\n",
    "print(res2)"
   ]
  },
  {
   "cell_type": "markdown",
   "metadata": {},
   "source": [
    "# Figures\n",
    "\n",
    "Nous utiliserons le module **matplotlib.pyplot** pour tracer des figures avec Python.\n",
    "\n",
    "Pour afficher les figures ici dans le notebook, il faut également utiliser l'instruction  **%matplotlib nbagg** quand on importe les différents modules (sinon les figures s'affichent dans une fenêtre à part). Si vous utilisez IDLE, vous n'avez pas besoin de l'instruction **%matplotlib nbagg**. Vous pouvez aussi utiliser l' instruction **%matplotlib inline** pour que les figures s'affichent dans la sortie de la cellule. Par contre, avec cette commande vous n'aurez plus le mode intéractif et il faudra faire les modifications d'une figure dans la même cellule."
   ]
  },
  {
   "cell_type": "code",
   "execution_count": null,
   "metadata": {
    "collapsed": true
   },
   "outputs": [],
   "source": [
    "%matplotlib nbagg\n",
    "\n",
    "import matplotlib\n",
    "import matplotlib.pyplot as plt"
   ]
  },
  {
   "cell_type": "markdown",
   "metadata": {},
   "source": [
    "Chaque fonction de **pyplot** apporte un changement à la figure *courante*  comme p.ex. \n",
    "tracer des lignes, changer la couleur, ajouter une légende, annoter les axes etc. \n",
    "\n",
    "Voici un premier exemple pour tracer une courbe:\n",
    "\n",
    "- La fonction **plt.figure** crée une nouvelle figure (dont le numéro de figure est le nombre passé à la fonction en argument).\n",
    "\n",
    "- Ensuite, la fonction **plt.plot** crée une courbe qui passe par les points dont les coordonnées sont données en argument par  deux listes. La première liste sont les coordonnées des abscisses, la deuxièmes les  coordonnées des ordonnées. \n",
    "\n",
    "Précision pour IDLE :\n",
    "Si vous utilisez IDLE, une figure n'est affichée que quand vous le \n",
    " demandez explicitement par l'instruction **plt.show()**. C'est-à-dire, on fait d'abord toutes les commandes  **plt.plot**, **plt.setp** etc. et à la fin on appel **plt.show()**. "
   ]
  },
  {
   "cell_type": "code",
   "execution_count": null,
   "metadata": {},
   "outputs": [],
   "source": [
    "plt.figure(1)\n",
    "plt.plot(range(5),[4,3.6,2.5,3.2,4.1])"
   ]
  },
  {
   "cell_type": "markdown",
   "metadata": {},
   "source": [
    "Ici, dans le notebook, nous sommes en mode interactif, ce qui veut dire qu'il est possible d'ajouter des éléments supplémentaires ou de modifier les caractéristiques de la figure.\n",
    "\n",
    "Essayez d'ajouter une autre courbe à la figure par une nouvelle instruction **plt.plot**. La courbe doit passera par les points (2, 3), (0.5, 3.5) et (8, 2)."
   ]
  },
  {
   "cell_type": "code",
   "execution_count": null,
   "metadata": {
    "collapsed": true
   },
   "outputs": [],
   "source": []
  },
  {
   "cell_type": "markdown",
   "metadata": {},
   "source": [
    "Pour effacer une figure et  recommencer, il faut arrêter le mode interactif en appuyant sur le bouton bleu en haut à droite de la figure.\n",
    "\n",
    "Que se passe-t-il si on appelle la fonction **plt.plot** avec une seule liste ? Essayez-le."
   ]
  },
  {
   "cell_type": "code",
   "execution_count": null,
   "metadata": {},
   "outputs": [],
   "source": [
    "plt.plot([3,4,3,4,3,4,3,4,3,4,3])"
   ]
  },
  {
   "cell_type": "markdown",
   "metadata": {},
   "source": [
    "Les fonctions de matplotlib ne sont pas limitées à des listes comme arguments des fonctions, mais elles  acceptent aussi des  *numpy array*. \n",
    "\n",
    "Il est également possible de  tracer plusieurs courbes par un seul appel de la fonction **plt.plot**:"
   ]
  },
  {
   "cell_type": "code",
   "execution_count": null,
   "metadata": {},
   "outputs": [],
   "source": [
    "plt.figure(2)\n",
    "x = np.arange(0., 10., 0.1)\n",
    "y1 = 2*x\n",
    "y2 = np.sqrt(x)+6*np.log(x+1)\n",
    "y3 = x**2-10*x\n",
    "plt.plot(x,y1, x,y2, x,y3)"
   ]
  },
  {
   "cell_type": "markdown",
   "metadata": {},
   "source": [
    "### Titre et noms des axes\n",
    "\n",
    "Maintenant,  ajoutons un titre à la figure et annotons les axes :"
   ]
  },
  {
   "cell_type": "code",
   "execution_count": null,
   "metadata": {},
   "outputs": [],
   "source": [
    "plt.title('Titre de la figure')\n",
    "plt.ylabel(u\"Axe des ordonnées\")\n",
    "plt.xlabel(\"Axe des abscisses\")"
   ]
  },
  {
   "cell_type": "markdown",
   "metadata": {
    "collapsed": true
   },
   "source": [
    "Rappelez-vous qu'en Python, l'emploi de  lettres avec des accents (à,é,è etc.) dans les chaînes de caractères peut poser des problèmes d'encodage. Pour y remédier, il faut faire précéder la chaîne de caractère par  *u* afin de préciser l'encodage (voir exemple ci-dessus).\n",
    "\n",
    "Aussi, pour définir une chaîne de caractères contenant des apostrophes comme la phrase *Python, c'est trop cool*, il faut utiliser les guillemets (\") et non pas les apostrophes ('). C'est-à-dire, on écrit\n",
    "*\"Python, c'est trop cool\"*, parce que *'Python, c'est trop cool'* ne marchera pas.\n",
    "\n",
    "Changez le titre et les noms des axes de  la dernière figure.\n",
    "\n",
    "### Couleur, type de ligne, marqueur\n",
    "\n",
    "Maintenant, nous allons apprendre à modifier la couleur, tracer des points, choisir les symboles représentant des points etc. Cela peut se faire par les options de la fonction **plt.plot**. \n",
    "\n",
    "Analysez les  exemples suivants.\n"
   ]
  },
  {
   "cell_type": "code",
   "execution_count": null,
   "metadata": {
    "scrolled": false
   },
   "outputs": [],
   "source": [
    "plt.figure(3)\n",
    "x = np.arange(0., 5., 0.1)\n",
    "y = x**2\n",
    "plt.plot(x,y)\n",
    "plt.plot(x,y+1, linewidth=5.0, color='r', linestyle='--')\n",
    "plt.plot(x,y+2, 'r--')\n",
    "plt.plot(x,y+3, 'g:')\n",
    "plt.plot(x,y+4, 'b-.')\n",
    "plt.plot(x,y+5, 'c^')"
   ]
  },
  {
   "cell_type": "markdown",
   "metadata": {},
   "source": [
    "Alternativement, on peut utiliser les attributs du graphique pour modifier ses caractéristiques. Ceci est particulièrement pratique  quand on veut tracer plusieurs courbes dans le même style. (Consultez l'aide sur  **matplotlib.lines.Line2D** pour une description complète des attributs http://matplotlib.org/api/lines_api.html#matplotlib.lines.Line2D.)\n",
    "\n",
    "Voyons comment ça marche en continuant l'exemple ci-dessus :"
   ]
  },
  {
   "cell_type": "code",
   "execution_count": null,
   "metadata": {},
   "outputs": [],
   "source": [
    "courbes = plt.plot(x,y+8, x,y+9, x,y+10)\n",
    "plt.setp(courbes, color='m', linestyle='-.')"
   ]
  },
  {
   "cell_type": "code",
   "execution_count": null,
   "metadata": {},
   "outputs": [],
   "source": [
    "courbes2 = plt.plot(x,30-y, x,y-3)\n",
    "plt.setp(courbes2,color='k', marker = '.',markevery=5, markersize=50,markeredgecolor='g',\n",
    "         markerfacecolor='w')"
   ]
  },
  {
   "cell_type": "markdown",
   "metadata": {},
   "source": [
    "Liste de couleurs en **matplotlib**:\n",
    "\n",
    "- b: blue\n",
    "\n",
    "- g: green\n",
    "\n",
    "- r: red\n",
    "\n",
    "- c: cyan\n",
    "\n",
    "- m: magenta\n",
    "\n",
    "- y: yellow\n",
    "\n",
    "- k: black\n",
    "\n",
    "- w: white\n",
    "\n",
    "- et encore plus de couleurs ici : http://matplotlib.org/1.2.1/api/colors_api.html\n",
    "\n",
    "Liste de types de ligne (*linestyle*):\n",
    "\n",
    "-  '-' ligne solide\n",
    "\n",
    "- '--' ligne interrompue\n",
    "\n",
    "-  ':' ligne pointillée\n",
    "\n",
    "- '-.' ligne en traits-points\n",
    "\n",
    "- ' ' rien, pas de ligne\n",
    "\n",
    "Liste de types de marker (*markerstyle*):\n",
    "\n",
    "- '.' point\n",
    "\n",
    "- ',' pixel\n",
    "\n",
    "- 'o' cercle\n",
    "\n",
    "- '^' triangle (pointant vers le haut)\n",
    "\n",
    "- 'v' triagnle (pointant vers le bas)\n",
    "\n",
    "- '\\*' étoile\n",
    "\n",
    "- '+' plus\n",
    "\n",
    "- 'x' x\n",
    "\n",
    "- 's' carré\n",
    "\n",
    "- 'd' diamond\n",
    "\n",
    "-  et encore plus ici: http://matplotlib.org/api/markers_api.html#module-matplotlib.markers\n",
    "\n",
    "\n",
    "### Plusieurs figures dans une fenêtre\n",
    "\n",
    "Voyons maintenant comment créer plusieurs figures dans une seule fenêtre. Voici un exemple, dont le code est expliqué après :\n"
   ]
  },
  {
   "cell_type": "code",
   "execution_count": null,
   "metadata": {},
   "outputs": [],
   "source": [
    "def f(t):\n",
    "    return np.exp(-t) * np.cos(2*np.pi*t)\n",
    "\n",
    "t1 = np.arange(0.0, 5.0, 0.1)\n",
    "t2 = np.arange(0.0, 5.0, 0.02)\n",
    "\n",
    "plt.figure(4)\n",
    "plt.subplot(211)\n",
    "plt.plot(t1, f(t1), 'bo', t2, f(t2), 'k')\n",
    "\n",
    "plt.subplot(212)\n",
    "plt.plot(t2, np.cos(2*np.pi*t2), 'r--')"
   ]
  },
  {
   "cell_type": "markdown",
   "metadata": {},
   "source": [
    "Tout d'abords, nous avons crée une fonction pour pouvoir l'évaluer sur plusieurs intervalles. Pour ce faire on écrit **def** puis le nom de la fonction (qui apparait en bleu), des parenthèses **(** **)**, les paramètres entre les parenthèses (dans notre cas t) et les deux points **:**. Enfin, on renvoit le résultat avec **return**.\n",
    "\n",
    "Pour tracer plusieurs figures dans une même fenêtre,  on ouvre d'abord une fenêtre par la fonction **plt.figure**.\n",
    "\n",
    "Ensuite, on crée la première figure par la fonction **plt.subplot**, et on trace tous les graphiques de la première figure  par des commandes **plt.plot**.\n",
    "\n",
    "Pour passer à la figures suivante, on appelle encore la fonction **plt.subplot**, puis on trace les graphiques correspondants avec **plt.plot**.\n",
    "\n",
    "L'unique difficulté pour des figures multiples sont les arguments de la fonction **plt.subplot(lcn)**. Les nombres **l** et **c** indiquent le nombre de figures et comment les-répartir dans la fenêtre. En fait, virtuellement la fenêtre est coupée en  **l** lignes et **c** colonnes définissant les emplacements des différentes figures. Ensuite, **n** est le numéro de la figure actuelle qu'on veut construire (les figures sont numérotées de gauche à droite, du haut en bas). Dans l'exemple ci-dessus on trace  deux figures l'un au-dessous de l'autre. On a alors **l=2** lignes et **c=1** colonne.\n",
    "\n",
    "Dans l'appel de **plt.subplot**, on peut aussi mettre des virgules entre les arguments. C'est-à-dire les instructions **plt.subplot(3,2,5)** et **plt.subplot(325)** sont équivalentes. En revanche, si un des nombres **l,c,n** dépasse 9, les virgules deviennent obligatoires.\n",
    "\n",
    "### Légende\n",
    "\n",
    "Dès qu'on trace plus d'une courbe dans une figure, il est très important de mettre une légende pour expliquer les différents symboles/couleurs. Voici comment faire: \n",
    "D'abord on trace ses différentes courbes avec **plt.plot** en ajoutant l'option **label='texte pour la legende'**. Ensuite, on utilise **plt.legend** pour construire une légende.  "
   ]
  },
  {
   "cell_type": "code",
   "execution_count": null,
   "metadata": {},
   "outputs": [],
   "source": [
    "plt.figure(5)\n",
    "plt.plot([1,5,1],'b-', label='la premiere courbe')\n",
    "plt.plot([5,1,5],'m:o', label=u'la courbe pointillée')\n",
    "plt.plot(np.arange(0,2,.2),np.arange(0,4,.4),'r^', linewidth=3, label='triangles')\n",
    "plt.legend()"
   ]
  },
  {
   "cell_type": "markdown",
   "metadata": {},
   "source": [
    "Pour choisir l'endroit où la légende est placée dans la figure, on utilise l'option **loc** dans **plt.legend(loc=3)** :\n",
    "\n",
    "- **loc=0** : choix automatique (optimal)\n",
    "\n",
    "- **loc=1** : en haut à droite\n",
    "\n",
    "- **loc=2** : en haut à gauche\n",
    "\n",
    "- **loc=3** : en bas à gauche\n",
    "\n",
    "- **loc=4** : en bas à droite\n",
    "\n",
    "- ...\n",
    "\n",
    "Déplacez la légende dans l'exemple ci-dessus.\n",
    "\n",
    "### Fermer ses figures \n",
    "\n",
    "Pour une bonne gestion de la mémoire, il convient de fermer ses figures quand on a terminé. La commande **plt.close()** ferme la figure courante, **plt.close(m)** ferme la figure numéro **m** et **plt.close('all')** ferme toutes les figures."
   ]
  },
  {
   "cell_type": "code",
   "execution_count": null,
   "metadata": {
    "collapsed": true
   },
   "outputs": [],
   "source": [
    "plt.close()"
   ]
  },
  {
   "cell_type": "code",
   "execution_count": null,
   "metadata": {
    "collapsed": true
   },
   "outputs": [],
   "source": [
    "plt.close(1)\n",
    "plt.close(2)"
   ]
  },
  {
   "cell_type": "code",
   "execution_count": null,
   "metadata": {
    "collapsed": true
   },
   "outputs": [],
   "source": [
    "plt.close('all')"
   ]
  },
  {
   "cell_type": "markdown",
   "metadata": {},
   "source": [
    "# Exercice 1. Neurones (suite)\n",
    "\n",
    "Reprenons l'exemple des données sur les neurones du notebook NB1. En fait, nous disposons de deux autres séries de mesures du même type. Elles correspondent à des mesures sur des sujets atteints d'une maladie cérébrales, alors que la première série (que nous avons déjà étudiée) provient d'une personne  en bonne santé. \n",
    "\n",
    "L'exercice consiste à comparer les trois séries, et de répondre à la question s'il y a une différence significative entre  la personne en bonne santé et les personnes malades.\n",
    "\n",
    "1.  Les séries de mesures des personnes malades sont disponibles ici : http://www.proba.jussieu.fr/pageperso/rebafka/nerve2.csv\n",
    "   et ici: http://www.proba.jussieu.fr/pageperso/rebafka/nerve3.csv.\n",
    "Importer les trois séries de mesures.\n",
    "\n",
    "2.  Comparer les nombres de mesures par personne.\n",
    "\n",
    "3. Comparer les moyennes, médianes, écart-types, les quartiles, les valeurs maximales et minimales. Commenter.\n",
    "\n",
    "4. Pour comparer la distribution des mesures, on veut tracer leur fonctions de répartition. Rappeler la définition de la  fonction de répartition. Quelle information tirée de la représentation  graphique d'une  fonction de répartition ?\n",
    "\n",
    "5. La  fonction de répartition associée à des observations est une fonction en escalier. Utiliser l'aide ou l'internet pour savoir comment  tracer une fonction en escalier (=*step function* en anglais) avec matplotlib. \n",
    "\n",
    "7. Tracer la fonction de répartition de la personne en bonne santé. Représenter-la par une ligne pointillée verte. \n",
    " Ajouter un titre, annoter les axes, et ajouter une légende.\n",
    " \n",
    "7. Tracer   chaque fonction de répartition dans une figure à part (dans un même fenêtre). Veillez à ce que les trois fonctions sont représentées sur le même intervalle. \n",
    "Représenter les médianes et les quartiles par des points.\n",
    "\n",
    "6. Maintenant tracer la fonction de répartition des trois séries dans une même figure et faites tout pour que la figure soit **jolie** et facilement compréhensible pour quelqu'un d'autre : ajouter un titre, annoter les axes, utiliser  des couleurs différentes et ajouter une légende.  \n",
    "\n",
    "7. Interprétez votre dernière figure et répondez à la question s'il y a une différence significative entre  la personne en bonne santé et les personnes malades.\n"
   ]
  },
  {
   "cell_type": "markdown",
   "metadata": {},
   "source": [
    "# Statistique descriptive univariée"
   ]
  },
  {
   "cell_type": "markdown",
   "metadata": {},
   "source": [
    "### Histogramme\n",
    "\n",
    "En Python, il y a deux fonctions **hist** pour tracer des histogrammes :\n",
    "\n",
    "- la fonction **hist** de **pandas** qui s'applique aux **dataframe**\n",
    "\n",
    "- la fonction **hist** de **matplotlib** qui s'applique aux **array** ou aux séquences d'**array**\n",
    "\n",
    "Les deux fonctions se distinguent légèrement par leurs options. \n",
    "\n",
    "Voyons quelques exemples :"
   ]
  },
  {
   "cell_type": "code",
   "execution_count": null,
   "metadata": {},
   "outputs": [],
   "source": [
    "data = pd.DataFrame(np.random.randn(1000,1),columns=['X'])\n",
    "data.head()"
   ]
  },
  {
   "cell_type": "code",
   "execution_count": null,
   "metadata": {},
   "outputs": [],
   "source": [
    "data.hist(normed=True)"
   ]
  },
  {
   "cell_type": "markdown",
   "metadata": {},
   "source": [
    "L'option **normed=True** est obligatoire pour obtenir un histogramme comme défini dans le cours. Vérifiez ce qui se passe si vous enlevez cette option.\n",
    "\n",
    "La fonction **hist** de **pandas** a des nombreuses options. Regardez :"
   ]
  },
  {
   "cell_type": "code",
   "execution_count": null,
   "metadata": {},
   "outputs": [],
   "source": [
    "help(data.hist)"
   ]
  },
  {
   "cell_type": "markdown",
   "metadata": {},
   "source": [
    "Voici les options les plus utiles pour nous :\n",
    "\n",
    "- **normed=True** pour obtenir un vrai histogramme\n",
    "\n",
    "- **bins** le nombre de sous-intervalles\n",
    "\n",
    "- **grid** (de type booléan) pour tracer/enlever la  grille \n",
    "\n",
    "Dans l'exemple ci-dessus, essayez plusieurs valeurs pour **bins**. Quelle est la meilleure valeur de **bins** ?\n",
    "\n",
    "Pour des dataframe à plusieurs colonnes :\n",
    "\n",
    "- **column** le(s) numéro(s) des colonnes pour lesquelles on veut tracer l'histogramme\n",
    "\n",
    "- **sharex**, **sharey** (de type booléan) pour indiquer si tous les histogrammes doivent être représentés sur la même échelle ou pas\n",
    "\n",
    "- **by** pour sélectionner une partie du tableau selon les valeurs d'une colonne (voir exemple ci-desssous)"
   ]
  },
  {
   "cell_type": "code",
   "execution_count": null,
   "metadata": {},
   "outputs": [],
   "source": [
    "data['Y'] = np.random.binomial(3,.5,1000)\n",
    "data.head(10)"
   ]
  },
  {
   "cell_type": "code",
   "execution_count": null,
   "metadata": {},
   "outputs": [],
   "source": [
    "data.hist(normed=True,sharex=True,sharey=True)"
   ]
  },
  {
   "cell_type": "code",
   "execution_count": null,
   "metadata": {},
   "outputs": [],
   "source": [
    "data.hist(column='X',by='Y',normed=True,sharex=True)"
   ]
  },
  {
   "cell_type": "markdown",
   "metadata": {},
   "source": [
    "Et  maintenant pour comparer, voyons la fonction **hist** de **matplotlib** :"
   ]
  },
  {
   "cell_type": "code",
   "execution_count": null,
   "metadata": {},
   "outputs": [],
   "source": [
    "data2 = pd.DataFrame(np.random.randn(500,1)*1.5+2,columns=['Normal'])\n",
    "data2['Uniform'] = np.random.rand(500,1)\n",
    "data2['Exponentiel'] = np.random.exponential(2,500)\n",
    "data2['Poisson'] = np.random.poisson(2,500)\n",
    "data2.head()"
   ]
  },
  {
   "cell_type": "markdown",
   "metadata": {},
   "source": [
    "Les paramètres de **plt.hist** sont :\n",
    "\n",
    "- **normed=True** pour obtenir un vrai histogramme\n",
    "\n",
    "- **bins** le nombre de sous-intervalles de l'histogramme\n",
    "\n",
    "- **range** l'intervalle des abscisses\n",
    "\n",
    "- et pour d'autres options, regardez l'aide :"
   ]
  },
  {
   "cell_type": "code",
   "execution_count": null,
   "metadata": {},
   "outputs": [],
   "source": [
    "help(plt.hist)"
   ]
  },
  {
   "cell_type": "code",
   "execution_count": null,
   "metadata": {},
   "outputs": [],
   "source": [
    "plt.figure()\n",
    "plt.subplot(221)\n",
    "plt.hist(data2['Normal'], normed=True,bins=25)\n",
    "plt.subplot(222)\n",
    "plt.hist(data2['Uniform'], normed=True,bins=25)\n",
    "plt.subplot(223)\n",
    "plt.hist(data2['Exponentiel'], normed=True,bins=25)\n",
    "plt.subplot(224)\n",
    "plt.hist(data2['Poisson'], normed=True,bins=25)"
   ]
  },
  {
   "cell_type": "code",
   "execution_count": null,
   "metadata": {
    "scrolled": true
   },
   "outputs": [],
   "source": [
    "plt.figure()\n",
    "plt.hist((data2['Normal'],data2['Exponentiel'],data2['Uniform'],data2['Poisson']), normed=True,bins=15)\n",
    "plt.legend(['Normal','Exponentiel','Uniform','Poisson'])"
   ]
  },
  {
   "cell_type": "markdown",
   "metadata": {},
   "source": [
    "### Boxplot\n",
    "\n",
    "Pour tracer des boxplots (ou boîtes à moustaches) on utilise la fonction **boxplot** de **pandas** ou la fonction **boxplot** dans **matplotlib**. "
   ]
  },
  {
   "cell_type": "code",
   "execution_count": null,
   "metadata": {},
   "outputs": [],
   "source": [
    "plt.figure()\n",
    "bp = data2.boxplot()"
   ]
  },
  {
   "cell_type": "markdown",
   "metadata": {},
   "source": [
    "Les options de **boxplot** dans **pandas** sont :\n",
    "\n",
    "- **column** liste de colonnes pour lesquelles on veut tracer un boxplot\n",
    "\n",
    "- **by** colonne pour faire des groupes \n",
    "\n",
    "- **figsize** taille de la figure\n",
    "\n",
    "- **grid** (de type booléan) pour tracer/enlever la grille\n",
    "\n",
    "- etc."
   ]
  },
  {
   "cell_type": "code",
   "execution_count": null,
   "metadata": {},
   "outputs": [],
   "source": [
    "data.boxplot(column='X',by='Y')\n",
    "plt.xlabel(' ')\n",
    "plt.title(' ')"
   ]
  },
  {
   "cell_type": "markdown",
   "metadata": {},
   "source": [
    "### QQ-plot\n",
    "\n",
    "Pour tracer des QQ-plots, nous utiliserons la fonction suivante :"
   ]
  },
  {
   "cell_type": "code",
   "execution_count": null,
   "metadata": {
    "collapsed": true
   },
   "outputs": [],
   "source": [
    "def qqplot(x, y):\n",
    "    m = min([x.size,y.size])\n",
    "    alpha = np.linspace(1./float(m),1.,m)\n",
    "    qx = x.quantile(alpha)\n",
    "    qy = y.quantile(alpha)\n",
    "    plt.scatter(qx, qy, marker='o',s=60, facecolors='none', edgecolors='r');    \n",
    "    plt.plot(qx, qx, '--')"
   ]
  },
  {
   "cell_type": "code",
   "execution_count": null,
   "metadata": {},
   "outputs": [],
   "source": [
    "plt.figure()\n",
    "qqplot(data2['Normal'],data2['Exponentiel'])"
   ]
  },
  {
   "cell_type": "code",
   "execution_count": null,
   "metadata": {},
   "outputs": [],
   "source": [
    "plt.figure()\n",
    "qqplot(data2.loc[0:250,'Uniform'],data2.loc[250:500,'Uniform'])"
   ]
  },
  {
   "cell_type": "markdown",
   "metadata": {},
   "source": [
    "Comment interpréter la forme des QQ-plots ci-dessus ?\n",
    "\n",
    "En pratique, on veut souvent savoir si les données suivent une loi normale. On peut alors tracer le QQ-plot des données contre les quantiles théoriques d'une loi normale - en générale de la loi normale standard comme le fait la fonction **qqnorm** défini ci-après. Cette fonction a besoin des quantiles des la loi normale standard que l'on calcule par la fonction **ppf** du package **scipy**.\n",
    "\n"
   ]
  },
  {
   "cell_type": "code",
   "execution_count": null,
   "metadata": {},
   "outputs": [],
   "source": [
    "from scipy.stats import norm\n",
    "norm.ppf(.95)  # quantile d'ordre 0.95 "
   ]
  },
  {
   "cell_type": "code",
   "execution_count": null,
   "metadata": {
    "collapsed": true
   },
   "outputs": [],
   "source": [
    "def qqnorm(x):\n",
    "    m = x.size\n",
    "    alpha = np.linspace(1/(m*1.+1),m*1./(m*1.+1),m)\n",
    "    qy = x.sort_values()\n",
    "    qx = norm.ppf(alpha)\n",
    "    plt.scatter(qx, qy, marker='o',s=60, facecolors='none', edgecolors='r');    \n",
    "    plt.plot(qx, qx, '--')"
   ]
  },
  {
   "cell_type": "code",
   "execution_count": null,
   "metadata": {},
   "outputs": [],
   "source": [
    "plt.figure()\n",
    "qqnorm(data2['Normal'])"
   ]
  },
  {
   "cell_type": "markdown",
   "metadata": {},
   "source": [
    "Dans cet exemple nous voyons que les points du QQ-plot s'alignent sur une droite, mais pas sur la première bissectrice. Cela indique que les données suivent une loi normale, mais de paramètres différentes par rapport à la loi normale standard $\\mathcal N(0,1)$.\n",
    "\n",
    "En pratique, il est courant de centrer-réduire les données afin de mieux apprécier le QQ-plot. Cela veut dire que d'abord on transforme les données :"
   ]
  },
  {
   "cell_type": "code",
   "execution_count": null,
   "metadata": {
    "collapsed": true
   },
   "outputs": [],
   "source": [
    "obs_st = data2['Normal']\n",
    "obs_st = (obs_st-obs_st.mean())/obs_st.std()"
   ]
  },
  {
   "cell_type": "markdown",
   "metadata": {},
   "source": [
    "Ensuite on trace le QQ-plot de ces données standardisées en comparaison avec la loi normale standard :"
   ]
  },
  {
   "cell_type": "code",
   "execution_count": null,
   "metadata": {
    "scrolled": true
   },
   "outputs": [],
   "source": [
    "plt.figure()\n",
    "qqnorm(obs_st)"
   ]
  },
  {
   "cell_type": "markdown",
   "metadata": {},
   "source": [
    "Ce QQ-plot montre bien l'adéquation des données à une loi normale."
   ]
  },
  {
   "cell_type": "markdown",
   "metadata": {},
   "source": [
    "# Exercice 2. Représentations d'une distribution\n",
    "\n",
    "L'exercice porte sur les jeux de données des précédents notebooks.\n",
    "\n",
    "Toutes les figures doivent être facile à comprendre (pensez à mettre des légendes, annoter les axes, mettre des titres etc.)\n",
    "\n",
    "1. Choissisez deux poussins par régime et tracer leurs courbes de poids dans un même graphique. Autrement dit, on trace l'évolution du poids de ces poussins dans le temps. \n",
    "Utiliser des couleurs différentes pour les différents régimes.\n",
    "\n",
    "2. Tracer les quatre boxplots du poids  des poussins  au jour 0 par groupe de régime. Que peut-on dire de la composition des groupes au début de l'étude ?\n",
    "\n",
    "2. Tracer les quatre boxplots du poids  des poussins  au jour 21 par groupe de régime. Interprétez l'effet des différents régimes sur l'évolution du poids des poussins.\n",
    "\n",
    "3. Tracer les trois histogrammes des neurones  dans une même figure. Comparez les lois des trois échantillons.\n",
    "\n",
    "4. Calculez pour chaque jeu de données (neurones) les coefficients d'asymétrie et d'aplatissement. Interprétez les résultats. Comment est-ce qu'ils se traduisent sur la figure de la question précédente ?\n",
    "\n",
    "5. Tracer les  QQ-plots des neurones pour toutes les combinaisons de deux jeux de données possibles. Interprétez les figures.\n",
    "\n"
   ]
  },
  {
   "cell_type": "code",
   "execution_count": null,
   "metadata": {
    "collapsed": true
   },
   "outputs": [],
   "source": []
  }
 ],
 "metadata": {
  "kernelspec": {
   "display_name": "Python [default]",
   "language": "python",
   "name": "python2"
  },
  "language_info": {
   "codemirror_mode": {
    "name": "ipython",
    "version": 2
   },
   "file_extension": ".py",
   "mimetype": "text/x-python",
   "name": "python",
   "nbconvert_exporter": "python",
   "pygments_lexer": "ipython2",
   "version": "2.7.14"
  }
 },
 "nbformat": 4,
 "nbformat_minor": 1
}
